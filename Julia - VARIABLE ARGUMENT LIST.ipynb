{
 "cells": [
  {
   "cell_type": "markdown",
   "metadata": {},
   "source": [
    "# VARIABLE ARGUMENTS LIST"
   ]
  },
  {
   "cell_type": "markdown",
   "metadata": {},
   "source": [
    "First, we can look at the case where we wish to define a function that can take a\n",
    "variable number of arguments. We know that such a function exists, and plus (+) is\n",
    "an example of one such function.\n",
    "The definition takes the following form: g(a,b,c…), where a and b are required\n",
    "arguments but g can also take zero or more arguments represented by c… In this\n",
    "case, c will be returned as a tuple of values as the following code illustrates:"
   ]
  },
  {
   "cell_type": "code",
   "execution_count": 1,
   "metadata": {
    "collapsed": false
   },
   "outputs": [
    {
     "data": {
      "text/plain": [
       "g (generic function with 1 method)"
      ]
     },
     "execution_count": 1,
     "metadata": {},
     "output_type": "execute_result"
    }
   ],
   "source": [
    "function g(a ,b, c...)\n",
    "     n = length(c)\n",
    "     if n > 0\n",
    "         x = zeros(n)\n",
    "         for i = 1:n\n",
    "             x[i] = a + b*c[i]\n",
    "         end\n",
    "         return x\n",
    "     else\n",
    "         return \"1\"\n",
    "     end\n",
    "end"
   ]
  },
  {
   "cell_type": "code",
   "execution_count": 2,
   "metadata": {
    "collapsed": false
   },
   "outputs": [
    {
     "data": {
      "text/plain": [
       "\"1\""
      ]
     },
     "execution_count": 2,
     "metadata": {},
     "output_type": "execute_result"
    }
   ],
   "source": [
    "g(1.0,2.0)"
   ]
  },
  {
   "cell_type": "code",
   "execution_count": 3,
   "metadata": {
    "collapsed": false
   },
   "outputs": [
    {
     "data": {
      "text/plain": [
       "2-element Array{Float64,1}:\n",
       " 7.0\n",
       " 9.0"
      ]
     },
     "execution_count": 3,
     "metadata": {},
     "output_type": "execute_result"
    }
   ],
   "source": [
    " g(1.,2.,3.,4.)"
   ]
  },
  {
   "cell_type": "markdown",
   "metadata": {},
   "source": [
    "# Named parameters:"
   ]
  },
  {
   "cell_type": "code",
   "execution_count": 4,
   "metadata": {
    "collapsed": false
   },
   "outputs": [
    {
     "data": {
      "text/plain": [
       "7.5"
      ]
     },
     "execution_count": 4,
     "metadata": {},
     "output_type": "execute_result"
    }
   ],
   "source": [
    "f(x, y; a=2.5, b=4.0, c=1.0) = a*x + b*y + c;\n",
    "\n",
    "f(1.,1.,c=1.); # => 7.5"
   ]
  },
  {
   "cell_type": "markdown",
   "metadata": {},
   "source": [
    "We can combine variable arguments and named parameters in a meaningful way as\n",
    "follows:"
   ]
  },
  {
   "cell_type": "code",
   "execution_count": 5,
   "metadata": {
    "collapsed": false
   },
   "outputs": [
    {
     "data": {
      "text/plain": [
       "3-element Array{Float64,1}:\n",
       " 1.5\n",
       " 2.0\n",
       " 2.5"
      ]
     },
     "execution_count": 5,
     "metadata": {},
     "output_type": "execute_result"
    }
   ],
   "source": [
    "function h(x...; mu=1.0, sigma=2.0)\n",
    " n = length(x)\n",
    " (n == 0) ? (return nothing) : begin\n",
    " a = zeros(n);\n",
    " [a[i] = mu + sigma*x[i] for i = 1:n]\n",
    " a\n",
    " end\n",
    "end\n",
    "\n",
    "h(1.0,2.0,3.0, sigma=0.5)"
   ]
  },
  {
   "cell_type": "code",
   "execution_count": null,
   "metadata": {
    "collapsed": true
   },
   "outputs": [],
   "source": []
  }
 ],
 "metadata": {
  "kernelspec": {
   "display_name": "Julia 0.5.0",
   "language": "julia",
   "name": "julia-0.5"
  },
  "language_info": {
   "file_extension": ".jl",
   "mimetype": "application/julia",
   "name": "julia",
   "version": "0.5.0"
  }
 },
 "nbformat": 4,
 "nbformat_minor": 1
}
