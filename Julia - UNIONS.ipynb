{
 "cells": [
  {
   "cell_type": "markdown",
   "metadata": {},
   "source": [
    "# UNIONS"
   ]
  },
  {
   "cell_type": "markdown",
   "metadata": {},
   "source": [
    "Recall that in our vehicle type, we provided contact details as name, email, and phone type; however, alternatively, \n",
    "it might be more appropricate to use a postal address. To accomodicate both, we can write the following:"
   ]
  },
  {
   "cell_type": "code",
   "execution_count": 1,
   "metadata": {
    "collapsed": false
   },
   "outputs": [
    {
     "data": {
      "text/plain": [
       "Union{Address,Contact}"
      ]
     },
     "execution_count": 1,
     "metadata": {},
     "output_type": "execute_result"
    }
   ],
   "source": [
    "type Address\n",
    "     name::String\n",
    "     street::String\n",
    "     city::String\n",
    "     country::String\n",
    "     postcode::String\n",
    "end\n",
    "\n",
    "\n",
    "type Contact\n",
    "     name::String\n",
    "     email::String\n",
    "     phone::String\n",
    "\n",
    "    #Inner Constructor:\n",
    "    function Contact(name::String, email::String, phone::String)\n",
    "         length(name) == 0 && error(\"Need to provide a contact name\")\n",
    "         length(email) == 0 && length(phone) == 0 &&\n",
    "         error(\"Need to provide either an email or a phone number\")\n",
    "     new(name, email, phone)\n",
    "    end\n",
    "end\n",
    "\n",
    "\n",
    "typealias Owner Union{Contact, Address}"
   ]
  },
  {
   "cell_type": "code",
   "execution_count": 2,
   "metadata": {
    "collapsed": false
   },
   "outputs": [
    {
     "data": {
      "text/plain": [
       "Address(\"Malcolm Sherrington\",\"1 Main Street\",\"London\",\"UK\",\"WC2N 9ZZ\")"
      ]
     },
     "execution_count": 2,
     "metadata": {},
     "output_type": "execute_result"
    }
   ],
   "source": [
    "postal = Address(\"Malcolm Sherrington\", \"1 Main Street\", \"London\", \"UK\", \"WC2N 9ZZ\")"
   ]
  },
  {
   "cell_type": "code",
   "execution_count": 3,
   "metadata": {
    "collapsed": true
   },
   "outputs": [],
   "source": [
    "malcolm = Contact(\"Malcolm\",\"mal@abc.net\",\"+44 7777 555999\");"
   ]
  },
  {
   "cell_type": "markdown",
   "metadata": {},
   "source": [
    "The alias allows us to supply the owner field either as contact or potal details"
   ]
  },
  {
   "cell_type": "code",
   "execution_count": 4,
   "metadata": {
    "collapsed": false
   },
   "outputs": [],
   "source": [
    "abstract Vehicle\n",
    "abstract Car <: Vehicle\n",
    "abstract Bike <: Vehicle\n",
    "abstract Boat <: Vehicle\n",
    "abstract Powerboat <: Boat\n",
    "\n",
    "type Ford <: Car\n",
    "     owner    ::Contact\n",
    "     model    ::String\n",
    "     fuel     ::String\n",
    "     color    ::String\n",
    "     engine_cc::Int64\n",
    "     speed_mph::Float64\n",
    "     \n",
    "    function Ford(owner, model, engine_cc,speed_mph)\n",
    "     new(owner,model,\"Petrol\",\"Black\",engine_cc,speed_mph)\n",
    "     end\n",
    "end\n",
    "\n",
    "type BMW <: Car\n",
    "     owner::Contact\n",
    "     model::String\n",
    "     fuel::String\n",
    "     color::String\n",
    "     engine_cc::Int64\n",
    "     speed_mph::Float64\n",
    "     \n",
    "    function BMW(owner,model,engine_cc,speed_mph)\n",
    "     new(owner,model,\"Petrol\",\"Blue\",engine_cc,speed_mph)\n",
    "     end\n",
    "end\n",
    "\n",
    "type VW <: Car\n",
    "     owner::Contact\n",
    "     model::String\n",
    "     fuel::String\n",
    "     color::String\n",
    "     engine_cc::Int64\n",
    "     speed_mph::Float64\n",
    "end\n",
    "\n",
    "type MotorBike <: Bike\n",
    "     owner::Contact\n",
    "     model::String\n",
    "     engine_cc::Int64\n",
    "     speed_mph::Float64\n",
    "end\n",
    "\n",
    "type Scooter <: Bike\n",
    "     owner::Contact\n",
    "     model::String\n",
    "     engine_cc::Int64\n",
    "     speed_mph::Float64\n",
    "end\n",
    "\n",
    "type Speedboat <: Powerboat\n",
    "     owner::Contact\n",
    "     model::String\n",
    "     fuel::String\n",
    "     engine_cc::Int64\n",
    "     speed_knots::Float64\n",
    "     length_m::Float64\n",
    "end\n",
    "\n",
    "\n",
    "type Yacht <: Boat\n",
    "     owner::Owner  #Modified into \"Owner\"\n",
    "     model::String\n",
    "     length_m::Float64\n",
    "end"
   ]
  },
  {
   "cell_type": "code",
   "execution_count": 5,
   "metadata": {
    "collapsed": false
   },
   "outputs": [
    {
     "data": {
      "text/plain": [
       "Yacht(Contact(\"Malcolm\",\"mal@abc.net\",\"+44 7777 555999\"),\"Moody 36\",11.02)"
      ]
     },
     "execution_count": 5,
     "metadata": {},
     "output_type": "execute_result"
    }
   ],
   "source": [
    "y1 = Yacht(malcolm,\"Moody 36\", 11.02)"
   ]
  },
  {
   "cell_type": "code",
   "execution_count": 6,
   "metadata": {
    "collapsed": false
   },
   "outputs": [
    {
     "data": {
      "text/plain": [
       "Yacht(Address(\"Malcolm Sherrington\",\"1 Main Street\",\"London\",\"UK\",\"WC2N 9ZZ\"),\"Dufour 44\",13.47)"
      ]
     },
     "execution_count": 6,
     "metadata": {},
     "output_type": "execute_result"
    }
   ],
   "source": [
    "y2 = Yacht(postal,\"Dufour 44\", 13.47)"
   ]
  },
  {
   "cell_type": "code",
   "execution_count": 7,
   "metadata": {
    "collapsed": false
   },
   "outputs": [
    {
     "name": "stdout",
     "output_type": "stream",
     "text": [
      "y1.owner.name = \"Malcolm\"\n",
      "y2.owner.name = \"Malcolm Sherrington\"\n"
     ]
    },
    {
     "data": {
      "text/plain": [
       "\"Malcolm Sherrington\""
      ]
     },
     "execution_count": 7,
     "metadata": {},
     "output_type": "execute_result"
    }
   ],
   "source": [
    "@show y1.owner.name\n",
    "@show y2.owner.name"
   ]
  },
  {
   "cell_type": "code",
   "execution_count": 8,
   "metadata": {
    "collapsed": false
   },
   "outputs": [
    {
     "name": "stdout",
     "output_type": "stream",
     "text": [
      "y1.owner.email = \"mal@abc.net\"\n"
     ]
    },
    {
     "ename": "LoadError",
     "evalue": "LoadError: type Address has no field email\nwhile loading In[8], in expression starting on line 218",
     "output_type": "error",
     "traceback": [
      "LoadError: type Address has no field email\nwhile loading In[8], in expression starting on line 218",
      ""
     ]
    }
   ],
   "source": [
    "@show y1.owner.email\n",
    "@show y2.owner.email"
   ]
  },
  {
   "cell_type": "code",
   "execution_count": 9,
   "metadata": {
    "collapsed": false
   },
   "outputs": [
    {
     "name": "stdout",
     "output_type": "stream",
     "text": [
      "typeof(y1.owner) = Contact\n",
      "typeof(y2.owner) = Address\n"
     ]
    },
    {
     "data": {
      "text/plain": [
       "Address"
      ]
     },
     "execution_count": 9,
     "metadata": {},
     "output_type": "execute_result"
    }
   ],
   "source": [
    "@show typeof(y1.owner)\n",
    "@show typeof(y2.owner)"
   ]
  },
  {
   "cell_type": "code",
   "execution_count": 10,
   "metadata": {
    "collapsed": false
   },
   "outputs": [
    {
     "name": "stdout",
     "output_type": "stream",
     "text": [
      "isa(y1.owner,Contact) = true\n",
      "isa(y2.owner,Contact) = false\n"
     ]
    },
    {
     "data": {
      "text/plain": [
       "false"
      ]
     },
     "execution_count": 10,
     "metadata": {},
     "output_type": "execute_result"
    }
   ],
   "source": [
    "@show isa(y1.owner, Contact)\n",
    "@show isa(y2.owner, Contact)"
   ]
  },
  {
   "cell_type": "code",
   "execution_count": null,
   "metadata": {
    "collapsed": true
   },
   "outputs": [],
   "source": []
  }
 ],
 "metadata": {
  "kernelspec": {
   "display_name": "Julia 0.5.0",
   "language": "julia",
   "name": "julia-0.5"
  },
  "language_info": {
   "file_extension": ".jl",
   "mimetype": "application/julia",
   "name": "julia",
   "version": "0.5.0"
  }
 },
 "nbformat": 4,
 "nbformat_minor": 1
}
