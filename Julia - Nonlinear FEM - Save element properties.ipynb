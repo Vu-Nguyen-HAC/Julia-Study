{
 "cells": [
  {
   "cell_type": "markdown",
   "metadata": {},
   "source": [
    "# Nonlinear FEM - save element properties\n",
    "We can work on each element, with its own Ig, rho, psi, Dep by saving them to the matrix"
   ]
  },
  {
   "cell_type": "code",
   "execution_count": 4,
   "metadata": {
    "collapsed": false
   },
   "outputs": [
    {
     "data": {
      "text/plain": [
       "5×4 Array{Float64,2}:\n",
       "  1.0   2.0   3.0   4.0\n",
       "  5.0   6.0   7.0   8.0\n",
       "  9.0  10.0  11.0  12.0\n",
       " 13.0  14.0  15.0  16.0\n",
       " 17.0  18.0  19.0  20.0"
      ]
     },
     "execution_count": 4,
     "metadata": {},
     "output_type": "execute_result"
    }
   ],
   "source": [
    "# number of elements\n",
    "noe = 5\n",
    "# number of nodes per elements for Q4\n",
    "non = 4\n",
    "\n",
    "\n",
    "# Store Ig for the elt_th element, gp_th gauss point\n",
    "# create a matrix to store Ig\n",
    "Ig = zeros(noe, nof)\n",
    "\n",
    "# To save Ig for each loop. For instance\n",
    "n = 1\n",
    "\n",
    "for elt = 1:noe\n",
    "    for gp = 1:non\n",
    "        Ig[elt,gp] = n\n",
    "        n = n+1\n",
    "    end\n",
    "end\n"
   ]
  },
  {
   "cell_type": "code",
   "execution_count": null,
   "metadata": {
    "collapsed": true
   },
   "outputs": [],
   "source": []
  }
 ],
 "metadata": {
  "kernelspec": {
   "display_name": "Julia 0.5.0",
   "language": "julia",
   "name": "julia-0.5"
  },
  "language_info": {
   "file_extension": ".jl",
   "mimetype": "application/julia",
   "name": "julia",
   "version": "0.5.0"
  }
 },
 "nbformat": 4,
 "nbformat_minor": 1
}
