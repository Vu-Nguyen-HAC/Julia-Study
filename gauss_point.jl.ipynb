{
 "cells": [
  {
   "cell_type": "markdown",
   "metadata": {},
   "source": [
    "# GAUSSPOINT"
   ]
  },
  {
   "cell_type": "code",
   "execution_count": 14,
   "metadata": {},
   "outputs": [
    {
     "name": "stderr",
     "output_type": "stream",
     "text": [
      "WARNING: Method definition (::Type{Main.GaussLine})(Array{Array{Float64, 1}, 1}, Array{Float64, 1}) in module Main at In[2]:7 overwritten at In[14]:7.\n",
      "WARNING: Method definition (::Type{Main.GaussLine})(Any, Any) in module Main at In[2]:7 overwritten at In[14]:7.\n",
      "WARNING: Method definition (::Type{Main.GaussLine})(Int64, Int64) in module Main at In[2]:12 overwritten at In[14]:12.\n",
      "WARNING: Method definition getindex(Main.GaussLine, Int64) in module Main at In[2]:40 overwritten at In[14]:40.\n",
      "WARNING: Method definition length(Main.GaussLine) in module Main at In[2]:44 overwritten at In[14]:44.\n",
      "WARNING: Method definition start(Main.GaussLine) in module Main at In[2]:48 overwritten at In[14]:48.\n",
      "WARNING: Method definition next(Main.GaussLine, Any) in module Main at In[2]:52 overwritten at In[14]:52.\n",
      "WARNING: Method definition done(Main.GaussLine, Any) in module Main at In[2]:56 overwritten at In[14]:56.\n"
     ]
    },
    {
     "ename": "LoadError",
     "evalue": "UndefVarError: FieldSet not defined",
     "output_type": "error",
     "traceback": [
      "UndefVarError: FieldSet not defined",
      "",
      " in include_string(::String, ::String) at ./loading.jl:441"
     ]
    }
   ],
   "source": [
    "# Created by K.Nakamura on 2015-11-21.\n",
    "# e-mail: nakamura-keita-kn@ynu.jp\n",
    "\n",
    "\n",
    "# this GaussLine cannot be applied to triangle geometry\n",
    "immutable GaussLine\n",
    "    points::Vector{Vector{Float64}}  ###### Vector of vector\n",
    "    weights::Vector{Float64}\n",
    "end\n",
    "\n",
    "function GaussLine(npoint::Int64, dim::Int64)\n",
    "    line_points = begin\n",
    "        if     npoint == 1; [0.0]\n",
    "        elseif npoint == 2; [-1,1] / sqrt(3)\n",
    "        elseif npoint == 3; [-1,0,1] * sqrt(3/5)\n",
    "        end\n",
    "    end\n",
    "    line_weights = begin\n",
    "        if     npoint == 1; [2.0]\n",
    "        elseif npoint == 2; [1.0,1.0]\n",
    "        elseif npoint == 3; [5/9,8/9,5/9]\n",
    "        end\n",
    "    end\n",
    "    points = begin\n",
    "        if     dim == 1; vec([[i] for i=line_points])\n",
    "            elseif dim == 2; vec([[i,j] for i=line_points, j=line_points]) # This is why: point::Vector{Vector{Float64}}\n",
    "        elseif dim == 3; vec([[i,j,k] for i=line_points, j=line_points, k=line_points])\n",
    "        end\n",
    "    end\n",
    "    weights = begin\n",
    "        if     dim == 1; vec([i for i=line_weights])\n",
    "        elseif dim == 2; vec([i*j for i=line_weights, j=line_weights])\n",
    "        elseif dim == 3; vec([i*j*k for i=line_weights, j=line_weights, k=line_weights])\n",
    "        end\n",
    "    end\n",
    "    GaussLine(points, weights)\n",
    "end\n",
    "\n",
    "function Base.getindex(gauss_line::GaussLine, idx::Int64)\n",
    "    return gauss_line.points[idx], gauss_line.weights[idx]\n",
    "end\n",
    "\n",
    "function Base.length(gauss_line::GaussLine)\n",
    "    return length(gauss_line.points)\n",
    "end\n",
    "\n",
    "function Base.start(::GaussLine)\n",
    "    return 1\n",
    "end\n",
    "\n",
    "function Base.next(gauss_line::GaussLine, state)\n",
    "    return (gauss_line[state], state+1)\n",
    "end\n",
    "\n",
    "function Base.done(gauss_line::GaussLine, state)\n",
    "    return state > length(gauss_line)\n",
    "end\n",
    "\n",
    "\n",
    "immutable GaussPoint <: AbstractVector{Float64}\n",
    "    point::Vector{Float64}  \n",
    "    weight::Float64\n",
    "    fields::FieldSet   # We need FieldSet here because we want to assign \"stress\", \"strain\", ... to the gauss point?\n",
    "end\n",
    "\n",
    "GaussPoint(point, weight) = GaussPoint(point, weight, FieldSet())\n",
    "\n",
    "Base.size(gp::GaussPoint) = size(gp.point)\n",
    "Base.size(gp::GaussPoint, i) = size(gp.point, i)\n",
    "Base.length(gp::GaussPoint) = length(gp.point)\n",
    "Base.linearindexing(gp::GaussPoint) = Base.LinearFast()\n",
    "Base.getindex(gp::GaussPoint, i) = getindex(gp.point, i)\n",
    "Base.setindex!(gp::GaussPoint, val, i) = setindex!(gp.point.val, i)                #### What is it used for?\n",
    "Base.getindex(gp::GaussPoint, field_name::AbstractString) = gp.fields[field_name]\n",
    "\n",
    "function Base.setindex!(gp::GaussPoint, field_data, field_name::AbstractString)    #### What is it used for?\n",
    "    setindex!(gp.fields, field_data, field_name)\n",
    "end\n",
    "\n",
    "Base.haskey(gp::GaussPoint, name) = haskey(gp.fields, name)\n",
    "Base.keys(gp::GaussPoint) = keys(gp.fields)\n",
    "\n",
    "get_fieldset(gp::GaussPoint) = gp.fields\n",
    "\n",
    "\n",
    "next_timestep!(gp::GaussPoint, Δt::Real=1.0) = next_timestep!(get_fieldset(gp), Δt) # NOT YET\n",
    "pop_fields!(gp::GaussPoint) = pop_fields!(get_fieldset(gp))                         # NOT YET\n",
    "shift_fields!(gp::GaussPoint) = shift_fields!(get_fieldset(gp))                     # NOT YET\n"
   ]
  },
  {
   "cell_type": "code",
   "execution_count": 3,
   "metadata": {},
   "outputs": [
    {
     "data": {
      "text/plain": [
       "GaussLine(Array{Float64,1}[[-0.57735,-0.57735],[0.57735,-0.57735],[-0.57735,0.57735],[0.57735,0.57735]],[1.0,1.0,1.0,1.0])"
      ]
     },
     "execution_count": 3,
     "metadata": {},
     "output_type": "execute_result"
    }
   ],
   "source": [
    "A = GaussLine(2,2)"
   ]
  },
  {
   "cell_type": "code",
   "execution_count": 4,
   "metadata": {},
   "outputs": [
    {
     "data": {
      "text/plain": [
       "4-element Array{Array{Float64,1},1}:\n",
       " [-0.57735,-0.57735]\n",
       " [0.57735,-0.57735] \n",
       " [-0.57735,0.57735] \n",
       " [0.57735,0.57735]  "
      ]
     },
     "execution_count": 4,
     "metadata": {},
     "output_type": "execute_result"
    }
   ],
   "source": [
    "A.points"
   ]
  },
  {
   "cell_type": "code",
   "execution_count": 5,
   "metadata": {},
   "outputs": [
    {
     "data": {
      "text/plain": [
       "4-element Array{Float64,1}:\n",
       " 1.0\n",
       " 1.0\n",
       " 1.0\n",
       " 1.0"
      ]
     },
     "execution_count": 5,
     "metadata": {},
     "output_type": "execute_result"
    }
   ],
   "source": [
    "A.weights"
   ]
  },
  {
   "cell_type": "code",
   "execution_count": 8,
   "metadata": {},
   "outputs": [
    {
     "name": "stdout",
     "output_type": "stream",
     "text": [
      "([-0.57735,-0.57735],1.0)\n",
      "([0.57735,-0.57735],1.0)\n",
      "([-0.57735,0.57735],1.0)\n",
      "([0.57735,0.57735],1.0)\n"
     ]
    }
   ],
   "source": [
    "for i in A\n",
    "    println(i)\n",
    "end"
   ]
  },
  {
   "cell_type": "code",
   "execution_count": 9,
   "metadata": {},
   "outputs": [
    {
     "data": {
      "text/plain": [
       "GaussLine"
      ]
     },
     "execution_count": 9,
     "metadata": {},
     "output_type": "execute_result"
    }
   ],
   "source": [
    "typeof(A)"
   ]
  },
  {
   "cell_type": "code",
   "execution_count": 10,
   "metadata": {},
   "outputs": [
    {
     "data": {
      "text/plain": [
       "4"
      ]
     },
     "execution_count": 10,
     "metadata": {},
     "output_type": "execute_result"
    }
   ],
   "source": [
    "length(A)"
   ]
  },
  {
   "cell_type": "code",
   "execution_count": 11,
   "metadata": {},
   "outputs": [
    {
     "ename": "LoadError",
     "evalue": "MethodError: no method matching getindex(::GaussLine)",
     "output_type": "error",
     "traceback": [
      "MethodError: no method matching getindex(::GaussLine)",
      "",
      " in include_string(::String, ::String) at ./loading.jl:441"
     ]
    }
   ],
   "source": [
    "getindex(A)"
   ]
  },
  {
   "cell_type": "code",
   "execution_count": 12,
   "metadata": {},
   "outputs": [
    {
     "data": {
      "text/plain": [
       "([-0.57735,-0.57735],1.0)"
      ]
     },
     "execution_count": 12,
     "metadata": {},
     "output_type": "execute_result"
    }
   ],
   "source": [
    "B = GaussPoint([-0.57735,-0.57735],1.0)"
   ]
  },
  {
   "cell_type": "code",
   "execution_count": 17,
   "metadata": {},
   "outputs": [
    {
     "ename": "LoadError",
     "evalue": "UndefVarError: FieldSet not defined",
     "output_type": "error",
     "traceback": [
      "UndefVarError: FieldSet not defined",
      "",
      " in include_string(::String, ::String) at ./loading.jl:441"
     ]
    }
   ],
   "source": []
  },
  {
   "cell_type": "code",
   "execution_count": null,
   "metadata": {},
   "outputs": [],
   "source": [
    "point = [-0.57735,-0.57735]\n",
    "weight = 1"
   ]
  },
  {
   "cell_type": "code",
   "execution_count": 18,
   "metadata": {},
   "outputs": [
    {
     "ename": "LoadError",
     "evalue": "UndefVarError: FieldSet not defined",
     "output_type": "error",
     "traceback": [
      "UndefVarError: FieldSet not defined",
      "",
      " in include_string(::String, ::String) at ./loading.jl:441"
     ]
    }
   ],
   "source": []
  },
  {
   "cell_type": "code",
   "execution_count": null,
   "metadata": {},
   "outputs": [],
   "source": []
  }
 ],
 "metadata": {
  "kernelspec": {
   "display_name": "Julia 0.5.2",
   "language": "julia",
   "name": "julia-0.5"
  },
  "language_info": {
   "file_extension": ".jl",
   "mimetype": "application/julia",
   "name": "julia",
   "version": "0.5.2"
  }
 },
 "nbformat": 4,
 "nbformat_minor": 1
}
