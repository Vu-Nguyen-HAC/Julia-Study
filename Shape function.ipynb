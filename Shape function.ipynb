{
 "cells": [
  {
   "cell_type": "markdown",
   "metadata": {},
   "source": [
    "# SHAPE FUNCTION"
   ]
  },
  {
   "cell_type": "code",
   "execution_count": null,
   "metadata": {
    "collapsed": true,
    "jupyter": {
     "outputs_hidden": true
    }
   },
   "outputs": [],
   "source": [
    "# Created by K.Nakamura on 2015-11-21.\n",
    "# e-mail: nakamura-keita-kn@ynu.jp\n",
    "\n",
    "\n",
    "immutable ShapeFunction\n",
    "    N::Function\n",
    "    ∇N::Function\n",
    "end\n",
    "\n",
    "function ShapeFunction(local_coord::Vector, P::Function, ∇P::Function)\n",
    "    coef = vcat([P(x...) for x=local_coord]...) |> inv\n",
    "    N(point) = P(point...) * coef                            ######## Where does this \"point\" come from?\n",
    "    ∇N(point) = ∇P(point...) * coef\n",
    "    return ShapeFunction(N, ∇N)\n",
    "end\n",
    "\n",
    "function (shape::ShapeFunction)(point)\n",
    "    return shape.N(point)\n",
    "end\n",
    "\n",
    "function (shape::ShapeFunction)(point, dim::Int64)           ####### What is this used for?\n",
    "    base = shape(point)\n",
    "    N = zeros(dim, dim*length(base))\n",
    "    for i = 1:dim\n",
    "        N[i,i:dim:end] = base\n",
    "    end\n",
    "    return N\n",
    "end\n",
    "\n",
    "function (shape::ShapeFunction)(::Type{Val{:grad}}, point)   ####### What is it for?\n",
    "    return shape.∇N(point)\n",
    "end\n",
    "\n",
    "function (shape::ShapeFunction)(::Type{Val{:jacobian}}, point, geometry::Vector)\n",
    "    ∇N = shape(Val{:grad}, point)\n",
    "    return ∇N * hcat(geometry...)'\n",
    "end\n",
    "\n",
    "function (shape::ShapeFunction)(::Type{Val{:detj}}, point, geometry::Vector)\n",
    "    J = shape(Val{:jacobian}, point, geometry)\n",
    "    n, m = size(J)\n",
    "    if n == m  # volume element\n",
    "        return det(J)\n",
    "    end\n",
    "    Jᵀ = transpose(J)\n",
    "    if size(Jᵀ, 2) == 1  # boundary of 2d problem, || ∂X/∂ξ ||\n",
    "        return vecnorm(Jᵀ)\n",
    "    else # manifold on 3d problem, || ∂X/∂ξ₁ × ∂X/∂ξ₂ ||\n",
    "        return vecnorm(cross(Jᵀ[:,1], Jᵀ[:,2]))\n",
    "    end\n",
    "end\n",
    "\n",
    "function (shape::ShapeFunction)(::Type{Val{:grad}}, point, geometry::Vector)\n",
    "    ∇N = shape(Val{:grad}, point)\n",
    "    J = shape(Val{:jacobian}, point, geometry)\n",
    "    return inv(J) * ∇N\n",
    "end\n"
   ]
  }
 ],
 "metadata": {
  "kernelspec": {
   "display_name": "Julia 1.4.0",
   "language": "julia",
   "name": "julia-1.4"
  },
  "language_info": {
   "file_extension": ".jl",
   "mimetype": "application/julia",
   "name": "julia",
   "version": "1.4.0"
  }
 },
 "nbformat": 4,
 "nbformat_minor": 4
}
