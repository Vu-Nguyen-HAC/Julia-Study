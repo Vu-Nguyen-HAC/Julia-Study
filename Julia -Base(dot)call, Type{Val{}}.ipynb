{
 "cells": [
  {
   "cell_type": "markdown",
   "metadata": {},
   "source": [
    "# Base.call(::Type{Val{...}},args...)"
   ]
  },
  {
   "cell_type": "code",
   "execution_count": 1,
   "metadata": {
    "collapsed": false
   },
   "outputs": [
    {
     "name": "stderr",
     "output_type": "stream",
     "text": [
      "\n",
      "WARNING: deprecated syntax \"call(model::CamClay, ...)\".\n",
      "Use \"(model::CamClay)(...)\" instead.\n",
      "\n",
      "WARNING: deprecated syntax \"call(model::CamClay, ...)\".\n",
      "Use \"(model::CamClay)(...)\" instead.\n"
     ]
    },
    {
     "data": {
      "text/plain": [
       "3×3 Array{Float64,2}:\n",
       " 6.0  6.0  6.0\n",
       " 6.0  6.0  6.0\n",
       " 6.0  6.0  6.0"
      ]
     },
     "execution_count": 1,
     "metadata": {},
     "output_type": "execute_result"
    }
   ],
   "source": [
    "#-------------------------------------------------------------------------------\n",
    "type CamClay\n",
    "    lambda::Float64\n",
    "    kappa::Float64\n",
    "    De_d_p::Matrix\n",
    "\n",
    "    function CamClay(lambda::Float64, kappa::Float64)\n",
    "        De_d_p = lambda * kappa * ones(3,3)\n",
    "        new(lambda, kappa, De_d_p)      \n",
    "    end\n",
    "end\n",
    "#-------------------------------------------------------------------------------\n",
    "# Normally, we define the function like this:\n",
    "function De_d_p2(model::CamClay)\n",
    "    return model.De_d_p\n",
    "end\n",
    "#-------------------------------------------------------------------------------\n",
    "# Similarly, we can define as bellow:\n",
    "# (This is to make object as function)\n",
    "function Base.call(model::CamClay,::Type{Val{:De_d_p}})\n",
    "    return model.De_d_p \n",
    "end\n",
    "#-------------------------------------------------------------------------------\n",
    "function Base.call(model::CamClay,::Type{Val{:Dep}})\n",
    "         Dep = model.kappa * ones(3,3)\n",
    "         return Dep \n",
    " end\n",
    "#-------------------------------------------------------------------------------\n",
    "model  = CamClay(3.0,2.0)  \n",
    "Dep    = model(Val{:Dep}) \n",
    "De_d_p = model(Val{:De_d_p})\n",
    "# OR\n",
    "Dep   = De_d_p2(model)"
   ]
  },
  {
   "cell_type": "markdown",
   "metadata": {},
   "source": [
    "# We can also use function in the same way:"
   ]
  },
  {
   "cell_type": "code",
   "execution_count": 2,
   "metadata": {
    "collapsed": false
   },
   "outputs": [
    {
     "ename": "LoadError",
     "evalue": "LoadError: invalid redefinition of constant De_d_p2\nwhile loading In[2], in expression starting on line 20",
     "output_type": "error",
     "traceback": [
      "LoadError: invalid redefinition of constant De_d_p2\nwhile loading In[2], in expression starting on line 20",
      ""
     ]
    }
   ],
   "source": [
    "\n",
    "#==============================================================================#\n",
    "type CamClayModified\n",
    "    lambda::Float64\n",
    "    kappa::Float64\n",
    "    De_d_p::Matrix\n",
    "\n",
    "    function CamClayModified(lambda::Float64, kappa::Float64)\n",
    "        De_d_p = 2*lambda * kappa * ones(3,3)\n",
    "        new(lambda, kappa, De_d_p)      \n",
    "    end\n",
    "end\n",
    "\n",
    "#-------------------------------------------------------------------------------\n",
    "function De_d_p2(model::CamClayModified)\n",
    "    return model.De_d_p\n",
    "end\n",
    "#-------------------------------------------------------------------------------\n",
    "model = CamClayModified(3.0,2.0)\n",
    "De_d_p2 = De_d_p2(model)"
   ]
  }
 ],
 "metadata": {
  "kernelspec": {
   "display_name": "Julia 0.5.0",
   "language": "julia",
   "name": "julia-0.5"
  },
  "language_info": {
   "file_extension": ".jl",
   "mimetype": "application/julia",
   "name": "julia",
   "version": "0.5.0"
  }
 },
 "nbformat": 4,
 "nbformat_minor": 1
}
