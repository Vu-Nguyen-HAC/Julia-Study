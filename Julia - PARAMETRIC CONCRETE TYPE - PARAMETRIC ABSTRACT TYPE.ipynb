{
 "cells": [
  {
   "cell_type": "markdown",
   "metadata": {},
   "source": [
    "# PARAMETRIC CONCRETE TYPE"
   ]
  },
  {
   "cell_type": "code",
   "execution_count": 1,
   "metadata": {
    "collapsed": false
   },
   "outputs": [
    {
     "name": "stdout",
     "output_type": "stream",
     "text": [
      "a.x = [1,2,3]\n",
      "a.y = 2\n"
     ]
    },
    {
     "data": {
      "text/plain": [
       "2"
      ]
     },
     "execution_count": 1,
     "metadata": {},
     "output_type": "execute_result"
    }
   ],
   "source": [
    "type TypeB{T}\n",
    "    x::Array{T}\n",
    "    y::Int\n",
    "    TypeB(x::Array{T}) = new(x,2)  # inner constructor\n",
    "end\n",
    "TypeB{T}(x::Array{T}) = TypeB{T}(x) # outer constructor\n",
    "\n",
    "a = TypeB([1,2,3])\n",
    "@show a.x\n",
    "@show a.y"
   ]
  },
  {
   "cell_type": "code",
   "execution_count": 2,
   "metadata": {
    "collapsed": false
   },
   "outputs": [
    {
     "data": {
      "text/plain": [
       "TypeA{Int64}([1,2,3],2)"
      ]
     },
     "execution_count": 2,
     "metadata": {},
     "output_type": "execute_result"
    }
   ],
   "source": [
    "type TypeA{S}\n",
    "    x::Array{S}\n",
    "    y::Int\n",
    "    TypeA(x::Array{S}) = new(x,2)\n",
    "end\n",
    "TypeA{S}(x::Array{S}) = TypeA{S}(x)\n",
    "TypeA([1,2,3])"
   ]
  },
  {
   "cell_type": "code",
   "execution_count": 3,
   "metadata": {
    "collapsed": false
   },
   "outputs": [
    {
     "data": {
      "text/plain": [
       "Point{T<:Real}"
      ]
     },
     "execution_count": 3,
     "metadata": {},
     "output_type": "execute_result"
    }
   ],
   "source": [
    "type Point{T<:Real}\n",
    "  x::T\n",
    "  y::T\n",
    "\n",
    "  Point(x,y) = new(x,y)\n",
    "end\n",
    "\n",
    "Point{T<:Real}(x::T, y::T) = Point{T}(x,y)"
   ]
  },
  {
   "cell_type": "code",
   "execution_count": 4,
   "metadata": {
    "collapsed": false
   },
   "outputs": [
    {
     "data": {
      "text/plain": [
       "Point{Int64}(1,2)"
      ]
     },
     "execution_count": 4,
     "metadata": {},
     "output_type": "execute_result"
    }
   ],
   "source": [
    "a = Point(1,2)"
   ]
  },
  {
   "cell_type": "code",
   "execution_count": 5,
   "metadata": {
    "collapsed": false
   },
   "outputs": [
    {
     "data": {
      "text/plain": [
       "Point{Float64}(1.2,3.5)"
      ]
     },
     "execution_count": 5,
     "metadata": {},
     "output_type": "execute_result"
    }
   ],
   "source": [
    "b = Point(1.2,3.5)"
   ]
  },
  {
   "cell_type": "code",
   "execution_count": 6,
   "metadata": {
    "collapsed": true
   },
   "outputs": [],
   "source": [
    "type Point2{T<:Real}\n",
    "         x::T\n",
    "         y::T\n",
    "end\n"
   ]
  },
  {
   "cell_type": "code",
   "execution_count": 7,
   "metadata": {
    "collapsed": false
   },
   "outputs": [
    {
     "name": "stdout",
     "output_type": "stream",
     "text": [
      "a = Point2(1,2) = Point2{Int64}(1,2)\n",
      "b = Point2(1.2,3.0) = Point2{Float64}(1.2,3.0)\n"
     ]
    },
    {
     "data": {
      "text/plain": [
       "Point2{Float64}(1.2,3.0)"
      ]
     },
     "execution_count": 7,
     "metadata": {},
     "output_type": "execute_result"
    }
   ],
   "source": [
    "@show a = Point2(1,2)\n",
    "@show b = Point2(1.2,3.0)"
   ]
  },
  {
   "cell_type": "markdown",
   "metadata": {},
   "source": [
    "# PARAMETRIC ABSTRACT TYPE"
   ]
  },
  {
   "cell_type": "code",
   "execution_count": 8,
   "metadata": {
    "collapsed": true
   },
   "outputs": [],
   "source": [
    "abstract Pointy{T<:Real}"
   ]
  },
  {
   "cell_type": "code",
   "execution_count": 9,
   "metadata": {
    "collapsed": false
   },
   "outputs": [
    {
     "name": "stdout",
     "output_type": "stream",
     "text": [
      "Pointy{Float64} = Pointy{Float64}\n",
      "Pointy{Int64} = Pointy{Int64}\n"
     ]
    },
    {
     "ename": "LoadError",
     "evalue": "LoadError: TypeError: Pointy: in T, expected T<:Real, got Type{AbstractString}\nwhile loading In[9], in expression starting on line 218",
     "output_type": "error",
     "traceback": [
      "LoadError: TypeError: Pointy: in T, expected T<:Real, got Type{AbstractString}\nwhile loading In[9], in expression starting on line 218",
      ""
     ]
    }
   ],
   "source": [
    "@show Pointy{Float64}\n",
    "@show Pointy{Int64}\n",
    "@show Pointy{AbstractString}"
   ]
  },
  {
   "cell_type": "markdown",
   "metadata": {},
   "source": [
    "Type parameters for parametric composite types can be restricted in the same manner:"
   ]
  },
  {
   "cell_type": "markdown",
   "metadata": {},
   "source": [
    "Much as plain old abstract types serve to create a useful hierarchy of types over concrete types, parametric abstract types \n",
    "serve the same purpose with respect to parametric composite types. We could, for example, have declared Point{T} to be a \n",
    "subtype of Pointy{T} as follows:"
   ]
  },
  {
   "cell_type": "code",
   "execution_count": 10,
   "metadata": {
    "collapsed": false
   },
   "outputs": [],
   "source": [
    "type Point5{T} <: Pointy{T} #Or type Point4{T<:Real} <: Pointy{T}, to restrict within Real type\n",
    "  x::T\n",
    "  y::T\n",
    "end"
   ]
  },
  {
   "cell_type": "code",
   "execution_count": 11,
   "metadata": {
    "collapsed": false
   },
   "outputs": [
    {
     "ename": "LoadError",
     "evalue": "LoadError: UndefVarError: Pointy5 not defined\nwhile loading In[11], in expression starting on line 1",
     "output_type": "error",
     "traceback": [
      "LoadError: UndefVarError: Pointy5 not defined\nwhile loading In[11], in expression starting on line 1",
      ""
     ]
    }
   ],
   "source": [
    "x = Pointy5(1,5)"
   ]
  },
  {
   "cell_type": "code",
   "execution_count": 12,
   "metadata": {
    "collapsed": false
   },
   "outputs": [
    {
     "data": {
      "text/plain": [
       "true"
      ]
     },
     "execution_count": 12,
     "metadata": {},
     "output_type": "execute_result"
    }
   ],
   "source": [
    "#Given such a declaration, for each choice of T, we have Point{T} as a subtype of Pointy{T}:\n",
    "Point5{Float64} <: Pointy{Float64}\n",
    "Point5{Real} <: Pointy{Real}"
   ]
  },
  {
   "cell_type": "code",
   "execution_count": 13,
   "metadata": {
    "collapsed": false
   },
   "outputs": [],
   "source": [
    "type DiagPoint{T} <: Pointy{T}\n",
    "    x::T\n",
    "end"
   ]
  },
  {
   "cell_type": "code",
   "execution_count": 14,
   "metadata": {
    "collapsed": false
   },
   "outputs": [
    {
     "name": "stdout",
     "output_type": "stream",
     "text": [
      "This figure has 4 square angles\n",
      "The length according to x direction is 1\n",
      "This figure has 4 square angles\n",
      "The length according to x direction is 3\n"
     ]
    }
   ],
   "source": [
    "function print_value(P::Pointy)\n",
    "    println(\"This figure has 4 square angles\")\n",
    "    println(\"The length according to x direction is \",P.x)\n",
    "end\n",
    "\n",
    "P = Point5(1,2)\n",
    "print_value(P)\n",
    "\n",
    "Q = DiagPoint(3)\n",
    "print_value(Q)\n"
   ]
  },
  {
   "cell_type": "code",
   "execution_count": 15,
   "metadata": {
    "collapsed": false
   },
   "outputs": [
    {
     "ename": "LoadError",
     "evalue": "LoadError: syntax: extra token \"real\" after end of expression\nwhile loading In[15], in expression starting on line 1",
     "output_type": "error",
     "traceback": [
      "LoadError: syntax: extra token \"real\" after end of expression\nwhile loading In[15], in expression starting on line 1",
      ""
     ]
    }
   ],
   "source": [
    "A real example by Vu for PARAMETRIC ABSTRACT TYPE:"
   ]
  },
  {
   "cell_type": "code",
   "execution_count": 16,
   "metadata": {
    "collapsed": false
   },
   "outputs": [],
   "source": [
    "abstract Geometry_1{T<:Number}\n",
    "\n",
    "type Rectangular{T<:Number}<:Geometry_1{T} #Or type Point4{T<:Real} <: Pointy{T}, to restrict within Real type\n",
    "    length::T\n",
    "    height::T\n",
    "end\n",
    "\n",
    "type Square{T<:Number}<:Geometry_1{T}\n",
    "    length::T\n",
    "end"
   ]
  },
  {
   "cell_type": "code",
   "execution_count": 17,
   "metadata": {
    "collapsed": false
   },
   "outputs": [
    {
     "name": "stdout",
     "output_type": "stream",
     "text": [
      "This figure has 4 square angles\n",
      "The length according to x direction is 1\n",
      "This figure has 4 square angles\n",
      "The length according to x direction is 3\n",
      "This figure has 4 square angles\n",
      "The length according to x direction is 2.3\n",
      "This figure has 4 square angles\n",
      "The length according to x direction is 4.3\n"
     ]
    }
   ],
   "source": [
    "#Subtypes (Rectangular and Square) can share some functions and properties. Thus, we can write the common functions via\n",
    "#their supertype (Geometry_1)\n",
    "function print_value(P::Geometry_1)\n",
    "    println(\"This figure has 4 square angles\")\n",
    "    println(\"The length according to x direction is \",P.length)\n",
    "end\n",
    "    \n",
    "#Thanks to parametric type, the Rectangular and Square can get any type value as long as it is subtype of Number\n",
    "#Rectangular and Square can get the Int64 value\n",
    "P = Rectangular(1,2)\n",
    "print_value(P)\n",
    "\n",
    "Q = Square(3)\n",
    "print_value(Q)\n",
    "\n",
    "#Rectangular and Square can get the Float64 type value\n",
    "R = Rectangular(2.3,3.4)\n",
    "print_value(R)\n",
    "\n",
    "S = Square(4.3)\n",
    "print_value(S)"
   ]
  },
  {
   "cell_type": "markdown",
   "metadata": {},
   "source": [
    "# QUESTION: WHY DO WE NEED PARAMETRIC ABSTRACT TYPE?"
   ]
  },
  {
   "cell_type": "code",
   "execution_count": 18,
   "metadata": {
    "collapsed": false
   },
   "outputs": [
    {
     "name": "stdout",
     "output_type": "stream",
     "text": [
      "This figure has 4 square angles\n",
      "The length according to x direction is 1\n",
      "This figure has 4 square angles\n",
      "The length according to x direction is 3\n",
      "This figure has 4 square angles\n",
      "The length according to x direction is 2.3\n",
      "This figure has 4 square angles\n",
      "The length according to x direction is 4.3\n"
     ]
    }
   ],
   "source": [
    "abstract Geometry2\n",
    "\n",
    "type Rectangular2{T<:Number}<:Geometry2 #Or type Point4{T<:Real} <: Pointy{T}, to restrict within Real type\n",
    "    length::T\n",
    "    height::T\n",
    "end\n",
    "\n",
    "type Square2{T<:Number}<:Geometry2\n",
    "    length::T\n",
    "end\n",
    "\n",
    "#Subtypes (Rectangular and Square) can share some functions and properties. Thus, we can write the common functions via\n",
    "#their supertype (Geometry_1)\n",
    "function print_value(P::Geometry2)\n",
    "    println(\"This figure has 4 square angles\")\n",
    "    println(\"The length according to x direction is \",P.length)\n",
    "end\n",
    "    \n",
    "#Thanks to parametric type, the Rectangular and Square can get any type value as long as it is subtype of Number\n",
    "#Rectangular and Square can get the Int64 value\n",
    "P = Rectangular2(1,2)\n",
    "print_value(P)\n",
    "\n",
    "Q = Square2(3)\n",
    "print_value(Q)\n",
    "\n",
    "#Rectangular and Square can get the Float64 type value\n",
    "R = Rectangular2(2.3,3.4)\n",
    "print_value(R)\n",
    "\n",
    "S = Square2(4.3)\n",
    "print_value(S)"
   ]
  },
  {
   "cell_type": "code",
   "execution_count": 19,
   "metadata": {
    "collapsed": false
   },
   "outputs": [
    {
     "data": {
      "text/plain": [
       "Pair{1=>3,B}"
      ]
     },
     "execution_count": 19,
     "metadata": {},
     "output_type": "execute_result"
    }
   ],
   "source": [
    "range = Pair{1=>3}"
   ]
  },
  {
   "cell_type": "code",
   "execution_count": 20,
   "metadata": {
    "collapsed": false
   },
   "outputs": [
    {
     "name": "stdout",
     "output_type": "stream",
     "text": [
      "range = Pair{1=>3,B}\n",
      "0.1 = 0.1\n",
      "range = Pair{1=>3,B}\n",
      "0.2 = 0.2\n"
     ]
    },
    {
     "data": {
      "text/plain": [
       "0.2"
      ]
     },
     "execution_count": 20,
     "metadata": {},
     "output_type": "execute_result"
    }
   ],
   "source": [
    "@show range.1\n",
    "@show range.2"
   ]
  },
  {
   "cell_type": "code",
   "execution_count": null,
   "metadata": {
    "collapsed": true
   },
   "outputs": [],
   "source": []
  }
 ],
 "metadata": {
  "kernelspec": {
   "display_name": "Julia 0.5.1",
   "language": "julia",
   "name": "julia-0.5"
  },
  "language_info": {
   "file_extension": ".jl",
   "mimetype": "application/julia",
   "name": "julia",
   "version": "0.5.0"
  }
 },
 "nbformat": 4,
 "nbformat_minor": 1
}
