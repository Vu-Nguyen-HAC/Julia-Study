{
 "cells": [
  {
   "cell_type": "markdown",
   "metadata": {},
   "source": [
    "# OUTER CONSTRUCTOR: \n",
    "The input arguments in the outer constructor are used to calculate the attributes of the type.\n",
    "In the following example, \"birthday\" is used to calculate \"age\" and \"scholarship_type\" is used\n",
    "to calculate \"scholarship_amount\""
   ]
  },
  {
   "cell_type": "code",
   "execution_count": null,
   "metadata": {
    "collapsed": true
   },
   "outputs": [],
   "source": [
    "type student\n",
    "    age::Int64\n",
    "    scholarship_amount::Int64\n",
    "end\n",
    "\n",
    "function student(birth_year::Int, scholarship_type::String)\n",
    "    age = 2016 - birth_year\n",
    "    if scholarship_type == \"Mext\"\n",
    "        scholarship_amount = 14800\n",
    "    else\n",
    "        scholarship_amount = 10000\n",
    "    end\n",
    "    return student(age, scholarship_amount)\n",
    "    \n",
    "end\n",
    "\n",
    "Thao = student(1990, \"Mext\")"
   ]
  },
  {
   "cell_type": "code",
   "execution_count": 7,
   "metadata": {},
   "outputs": [
    {
     "name": "stdout",
     "output_type": "stream",
     "text": [
      "Thao.age = 26\n",
      "Thao.scholarship_amount = 14800\n"
     ]
    },
    {
     "data": {
      "text/plain": [
       "14800"
      ]
     },
     "execution_count": 7,
     "metadata": {},
     "output_type": "execute_result"
    }
   ],
   "source": [
    "@show Thao.age\n",
    "@show Thao.scholarship_amount"
   ]
  },
  {
   "cell_type": "code",
   "execution_count": null,
   "metadata": {
    "collapsed": true
   },
   "outputs": [],
   "source": []
  }
 ],
 "metadata": {
  "kernelspec": {
   "display_name": "Julia 0.5.2",
   "language": "julia",
   "name": "julia-0.5"
  },
  "language_info": {
   "file_extension": ".jl",
   "mimetype": "application/julia",
   "name": "julia",
   "version": "0.5.2"
  }
 },
 "nbformat": 4,
 "nbformat_minor": 1
}
