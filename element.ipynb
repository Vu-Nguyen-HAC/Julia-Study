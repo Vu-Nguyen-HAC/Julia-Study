{
 "cells": [
  {
   "cell_type": "markdown",
   "metadata": {},
   "source": [
    "# ShapeFunction"
   ]
  },
  {
   "cell_type": "code",
   "execution_count": 1,
   "metadata": {},
   "outputs": [
    {
     "name": "stdout",
     "output_type": "stream",
     "text": [
      "N = shape(ξ) = [0.25 0.25 0.25 0.25]\n",
      "∂N∂ξ = shape(Val{:grad},ξ) = [-0.25 0.25 0.25 -0.25; -0.25 -0.25 0.25 0.25]\n",
      "∂N∂x = shape(Val{:grad},ξ,x) = [-0.5 0.5 0.5 -0.5; -0.5 -0.5 0.5 0.5]\n",
      "J = shape(Val{:jacobian},ξ,x) = [0.5 0.0; 0.0 0.5]\n",
      "detJ = shape(Val{:detj},ξ,x) = 0.25\n"
     ]
    },
    {
     "data": {
      "text/plain": [
       "0.25"
      ]
     },
     "execution_count": 1,
     "metadata": {},
     "output_type": "execute_result"
    }
   ],
   "source": [
    "using JFEM: ShapeFunction, Quad4\n",
    "\n",
    "shape = ShapeFunction(Quad4)\n",
    "\n",
    "# define local coordinate\n",
    "ξ = [0.0,0.0]\n",
    "    \n",
    "@show N = shape(ξ)\n",
    "@show ∂N∂ξ = shape(Val{:grad}, ξ)\n",
    "\n",
    "# define geometry x of element\n",
    "x = [[0.0,0.0], [1.0,0.0], [1.0,1.0], [0.0,1.0]]\n",
    "\n",
    "@show ∂N∂x = shape(Val{:grad}, ξ, x)\n",
    "@show J = shape(Val{:jacobian}, ξ, x) # Jacobian matrix ∂x/∂ξ\n",
    "@show detJ = shape(Val{:detj}, ξ, x)  # determinant of Jacobian matrix"
   ]
  },
  {
   "cell_type": "markdown",
   "metadata": {},
   "source": [
    "# Element\n",
    "\n",
    "## 基本的な使い方\n",
    "\n",
    "現在サポートしている要素の種類は，\n",
    "\n",
    "* 1次元: `Bar2`, `Bar3`\n",
    "* 2次元: `Quad4`, `Quad8`\n",
    "* 3次元: `Hex8`\n",
    "\n",
    "である．数字は要素の節点数を表す．各要素を作るには`connectivity`を引数として渡す必要がある．"
   ]
  },
  {
   "cell_type": "code",
   "execution_count": 2,
   "metadata": {},
   "outputs": [
    {
     "data": {
      "text/plain": [
       "4-element Array{JFEM.GaussPoint,1}:\n",
       " [-0.57735,-0.57735]\n",
       " [0.57735,-0.57735] \n",
       " [-0.57735,0.57735] \n",
       " [0.57735,0.57735]  "
      ]
     },
     "execution_count": 2,
     "metadata": {},
     "output_type": "execute_result"
    }
   ],
   "source": [
    "using JFEM: Quad4, get_connectivity, get_dimension, get_gauss_points, get_shape_function\n",
    "\n",
    "element = Quad4([1,2,3,4])\n",
    "get_connectivity(element) # [1,2,3,4]\n",
    "get_dimension(element) # 2\n",
    "length(element) # 4\n",
    "shape = get_shape_function(element)\n",
    "gausspoints = get_gauss_points(element)"
   ]
  },
  {
   "cell_type": "markdown",
   "metadata": {},
   "source": [
    "### 変数の格納\n",
    "\n",
    "要素の節点やガウスポイントに変数を保存するには`Field`を用いる．"
   ]
  },
  {
   "cell_type": "code",
   "execution_count": 3,
   "metadata": {},
   "outputs": [],
   "source": [
    "using JFEM: Field\n",
    "\n",
    "element[\"water head\"] = Field([0.0,0.0,0.0,0.0]) # store node value (length must be 4)\n",
    "push!(element[\"water head\"], [1.0,1.0,0.0,0.0])\n",
    "for gp in gausspoints\n",
    "    gp[\"stress\"] = Field([10.0,10.0,10.0])\n",
    "end"
   ]
  },
  {
   "cell_type": "markdown",
   "metadata": {},
   "source": [
    "### 形状関数$N_i$とその勾配$\\partial{N_i}/\\partial{X_j}, \\partial{N_i}/\\partial{x_j}$"
   ]
  },
  {
   "cell_type": "code",
   "execution_count": 4,
   "metadata": {},
   "outputs": [
    {
     "name": "stdout",
     "output_type": "stream",
     "text": [
      "element(Val{:GRAD},ξ) = [-0.5 0.5 0.5 -0.5; -0.5 -0.5 0.5 0.5]\n",
      "element(Val{:grad},ξ) = [-0.125 0.125 0.125 -0.125; -0.125 -0.125 0.125 0.125]\n"
     ]
    },
    {
     "data": {
      "text/plain": [
       "2×4 Array{Float64,2}:\n",
       " -0.125   0.125  0.125  -0.125\n",
       " -0.125  -0.125  0.125   0.125"
      ]
     },
     "execution_count": 4,
     "metadata": {},
     "output_type": "execute_result"
    }
   ],
   "source": [
    "## shape function (N) at a local coordinate ξ\n",
    "element(ξ) # shape(ξ)\n",
    "\n",
    "## To get a gradient of shape function, \"geometry\" must be stored in element beforehand.\n",
    "element[\"geometry\"] = Field([[0.0,0.0], [1.0,0.0], [1.0,1.0], [0.0,1.0]]) # set node coordinates (length must be 4)\n",
    "push!(element[\"geometry\"], [[0.0,0.0], [4.0,0.0], [4.0,4.0], [0.0,4.0]])\n",
    "\n",
    "# gradient of shape function based on \"the undeformed configuration (X)\" (∂N/∂X)\n",
    "@show element(Val{:GRAD}, ξ) # shape(Val{:grad}, ξ, element[\"geometry\"][1])\n",
    "\n",
    "# gradient of shape function based on \"the current configuration (x)\" (∂N/∂x)\n",
    "@show element(Val{:grad}, ξ) # shape(Val{:grad}, ξ, element[\"geometry\"][end])"
   ]
  },
  {
   "cell_type": "markdown",
   "metadata": {},
   "source": [
    "### $\\sum{N_ih_i}$とその勾配$\\sum{\\frac{\\partial{N}_i}{\\partial{X}_j}h_i}, \\sum{\\frac{\\partial{N}_i}{\\partial{x}_j}h_i}$"
   ]
  },
  {
   "cell_type": "code",
   "execution_count": 5,
   "metadata": {},
   "outputs": [
    {
     "name": "stdout",
     "output_type": "stream",
     "text": [
      "element(\"water head\",ξ) = 0.5\n",
      "(N * (element[\"water head\"])[end])[1] = 0.5\n",
      "element(\"water head\",Val{:GRAD},ξ) = [0.0; -1.0]\n",
      "∂N∂X * (element[\"water head\"])[end] = [0.0,-1.0]\n",
      "element(\"water head\",Val{:grad},ξ) = [0.0; -0.25]\n",
      "∂N∂x * (element[\"water head\"])[end] = [0.0,-0.25]\n"
     ]
    },
    {
     "data": {
      "text/plain": [
       "2-element Array{Float64,1}:\n",
       "  0.0 \n",
       " -0.25"
      ]
     },
     "execution_count": 5,
     "metadata": {},
     "output_type": "execute_result"
    }
   ],
   "source": [
    "## ∑Nᵢhᵢ\n",
    "\n",
    "# element(fieldname, ξ; time=:end)\n",
    "@show element(\"water head\", ξ)\n",
    "\n",
    "# corresponding method\n",
    "N = element(ξ)\n",
    "@show (N * element[\"water head\"][end])[1]\n",
    "\n",
    "\n",
    "## ∑∂Nᵢ/∂Xⱼ hᵢ\n",
    "\n",
    "# element(fieldname, Val{:GRAD}, ξ; time=:end)\n",
    "@show element(\"water head\", Val{:GRAD}, ξ)\n",
    "\n",
    "# corresponding method\n",
    "∂N∂X = element(Val{:GRAD}, ξ)\n",
    "@show ∂N∂X * element[\"water head\"][end]\n",
    "\n",
    "\n",
    "## ∑∂Nᵢ/∂xⱼ hᵢ\n",
    "\n",
    "# element(fieldname, Val{:grad}, ξ; time=:end)\n",
    "@show element(\"water head\", Val{:grad}, ξ)\n",
    "\n",
    "# corresponding method\n",
    "∂N∂x = element(Val{:grad}, ξ)\n",
    "@show ∂N∂x * element[\"water head\"][end]"
   ]
  },
  {
   "cell_type": "markdown",
   "metadata": {},
   "source": [
    "### Jacobian matrix"
   ]
  },
  {
   "cell_type": "code",
   "execution_count": 6,
   "metadata": {},
   "outputs": [
    {
     "name": "stdout",
     "output_type": "stream",
     "text": [
      "element(Val{:JACOBIAN},ξ) = [0.5 0.0; 0.0 0.5]\n",
      "element(Val{:detJ},ξ) = 0.25\n",
      "element(Val{:jacobian},ξ) = [2.0 0.0; 0.0 2.0]\n",
      "element(Val{:detj},ξ) = 4.0\n"
     ]
    },
    {
     "data": {
      "text/plain": [
       "4.0"
      ]
     },
     "execution_count": 6,
     "metadata": {},
     "output_type": "execute_result"
    }
   ],
   "source": [
    "# use reference configuration\n",
    "@show element(Val{:JACOBIAN}, ξ)\n",
    "@show element(Val{:detJ}, ξ)\n",
    "\n",
    "# use current configuration\n",
    "@show element(Val{:jacobian}, ξ)\n",
    "@show element(Val{:detj}, ξ)"
   ]
  },
  {
   "cell_type": "markdown",
   "metadata": {},
   "source": [
    "### 応用"
   ]
  },
  {
   "cell_type": "code",
   "execution_count": 7,
   "metadata": {},
   "outputs": [
    {
     "name": "stdout",
     "output_type": "stream",
     "text": [
      "ϵ = (∂u∂X + ∂u∂X') / 2 = [0.1 0.0; 0.0 -0.1]\n",
      "E ≈ (F' * F - I) / 2 = true\n",
      "e ≈ (I - F⁻¹' * F⁻¹) / 2 = true\n"
     ]
    },
    {
     "data": {
      "text/plain": [
       "true"
      ]
     },
     "execution_count": 7,
     "metadata": {},
     "output_type": "execute_result"
    }
   ],
   "source": [
    "δ = 0.1\n",
    "element[\"geometry\"] = Field([[0.0,0.0], [1.0,0.0], [1.0,1.0], [0.0,1.0]])\n",
    "push!(element[\"geometry\"], [[0.0,0.0], [1+δ,0.0], [1+δ,1-δ], [0.0,1-δ]])\n",
    "\n",
    "F = [1.0+δ 0.0;\n",
    "     0.0   1.0-δ]\n",
    "F⁻¹ = inv(F)\n",
    "I = eye(2)\n",
    "\n",
    "# infinitesimal strain\n",
    "∂u∂X = element(\"geometry\", Val{:GRAD}, [0.0,0.0]; time=:dend)\n",
    "@show ϵ = (∂u∂X + ∂u∂X') / 2\n",
    "\n",
    "# Lagrange-Green strain\n",
    "E = (∂u∂X + ∂u∂X' + ∂u∂X'*∂u∂X) / 2\n",
    "@show E ≈ (F'*F - I)/2\n",
    "\n",
    "# Euler-Almansi strain\n",
    "∂u∂x = element(\"geometry\", Val{:grad}, [0.0,0.0]; time=:dend)\n",
    "e = (∂u∂x + ∂u∂x' - ∂u∂x'*∂u∂x) / 2\n",
    "@show e ≈ (I - F⁻¹'*F⁻¹)/2"
   ]
  }
 ],
 "metadata": {
  "kernelspec": {
   "display_name": "Julia 1.4.0",
   "language": "julia",
   "name": "julia-1.4"
  },
  "language_info": {
   "file_extension": ".jl",
   "mimetype": "application/julia",
   "name": "julia",
   "version": "1.4.0"
  }
 },
 "nbformat": 4,
 "nbformat_minor": 4
}
