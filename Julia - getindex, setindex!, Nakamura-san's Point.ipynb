{
 "cells": [
  {
   "cell_type": "code",
   "execution_count": null,
   "metadata": {},
   "outputs": [],
   "source": [
    "type Point                       #### WHY DO WE NEED THE SUBTYPE: type Point<: AbstractVector{Float64}\n",
    "    idx::Int\n",
    "    coord::Vector{Float64}\n",
    "    weight::Float64\n",
    "end\n",
    "\n",
    "Point(coord::Vector{Float64}) = Point(0, coord, 1.0)# Outter constructor if \"weight\" isntt declared: default weight = 1\n",
    "Point(coord::Vector, weight) = Point(0, coord, weight)  # Outer constructor if \"weight\" is declared\n"
   ]
  },
  {
   "cell_type": "code",
   "execution_count": null,
   "metadata": {},
   "outputs": [],
   "source": [
    "pts = Point([0.0, 0.0]) # example if weight is not declared"
   ]
  },
  {
   "cell_type": "code",
   "execution_count": null,
   "metadata": {},
   "outputs": [],
   "source": [
    " pts2 = Point([0.0, 0.0],2.0)"
   ]
  },
  {
   "cell_type": "code",
   "execution_count": null,
   "metadata": {},
   "outputs": [],
   "source": [
    "#Advanced declaration \n",
    "pts = Point[\n",
    "        Point([0.0, 0.0], 1.0),\n",
    "        Point([1.0, 0.0], 1.0),\n",
    "        Point([1.0, 1.0], 1.0),\n",
    "        Point([0.0, 1.0], 1.0),\n",
    "    ]\n"
   ]
  },
  {
   "cell_type": "code",
   "execution_count": null,
   "metadata": {},
   "outputs": [],
   "source": [
    " pts = Point[\n",
    "        Point([0.0, 0.0]),      #the first member's weight is not declared\n",
    "        Point([1.0, 0.0], 2.0),\n",
    "        Point([1.0, 1.0], 1.0),\n",
    "        Point([0.0, 1.0], 1.0),\n",
    "    ]\n"
   ]
  },
  {
   "cell_type": "code",
   "execution_count": null,
   "metadata": {},
   "outputs": [],
   "source": [
    "Base.size(pt::Point) = size(pt.coord)\n",
    "Base.length(pt::Point) = length(pt.coord)\n",
    "Base.linearindexing(pt::Point) = Base.LinearFast()\n",
    "Base.getindex(pt::Point, i) = getindex(pt.coord, i)\n",
    "Base.setindex!(pt::Point, val, i) = setindex!(pt.coord, val, i)\n",
    "\n",
    "Base.convert(::Type{Vector{Float64}}, pt::Point) = pt.coord\n"
   ]
  },
  {
   "cell_type": "markdown",
   "metadata": {},
   "source": [
    "# getindex(collection, key...)\n",
    "To get the value(s) stored at the given key or index within a collection"
   ]
  },
  {
   "cell_type": "code",
   "execution_count": null,
   "metadata": {},
   "outputs": [],
   "source": [
    "@show size(pts)\n",
    "@show length(pts)\n",
    "@show getindex(pts,3)\n",
    "@show getindex(pts,4)"
   ]
  },
  {
   "cell_type": "code",
   "execution_count": null,
   "metadata": {},
   "outputs": [],
   "source": [
    "x_point = Point([1.0,2.0])"
   ]
  },
  {
   "cell_type": "markdown",
   "metadata": {},
   "source": [
    "# setindex!(collection, value, key...)\n",
    "Store the given value at the given key or index within a collection"
   ]
  },
  {
   "cell_type": "code",
   "execution_count": null,
   "metadata": {},
   "outputs": [],
   "source": [
    "setindex!(pts, x_point, 1)"
   ]
  },
  {
   "cell_type": "markdown",
   "metadata": {},
   "source": [
    "# An easy example of getindex, setindex!"
   ]
  },
  {
   "cell_type": "code",
   "execution_count": null,
   "metadata": {},
   "outputs": [],
   "source": [
    "# In this example, the collection \"a\" has \"Int64\" member\n",
    "a=[1,2,4]\n",
    "#get the value at the 3rd position of the collection \"a\"\n",
    "b = getindex(a,3)\n",
    "@show b\n",
    "#set the value at the 1st postion of the collection \"a\" equal 1\n",
    "setindex!(a,3,1)\n",
    "@show a"
   ]
  },
  {
   "cell_type": "code",
   "execution_count": null,
   "metadata": {},
   "outputs": [],
   "source": [
    "getindex(a,3)"
   ]
  },
  {
   "cell_type": "code",
   "execution_count": null,
   "metadata": {},
   "outputs": [],
   "source": [
    "setindex!(a,3,1)"
   ]
  },
  {
   "cell_type": "markdown",
   "metadata": {
    "collapsed": true
   },
   "source": [
    "# An easy explanation for setindex!"
   ]
  },
  {
   "cell_type": "code",
   "execution_count": null,
   "metadata": {},
   "outputs": [],
   "source": [
    "type GaussPoint <: AbstractVector{Float64}\n",
    "    point::Vector{Float64}  \n",
    "    weight::Float64\n",
    "end\n"
   ]
  },
  {
   "cell_type": "code",
   "execution_count": null,
   "metadata": {},
   "outputs": [],
   "source": [
    "a = GaussPoint([1.0, 3.0], 4.0) # Error"
   ]
  },
  {
   "cell_type": "code",
   "execution_count": null,
   "metadata": {},
   "outputs": [],
   "source": [
    "type GaussPoint2 <: AbstractVector{Float64}\n",
    "    point::Vector{Float64}  \n",
    "    weight::Float64\n",
    "end\n",
    "Base.size(s::GaussPoint2) = size(s.point)\n",
    "a = GaussPoint2([1.0, 3.0], 4.0) # Error"
   ]
  },
  {
   "cell_type": "code",
   "execution_count": null,
   "metadata": {},
   "outputs": [],
   "source": [
    "type GaussPoint3 <: AbstractVector{Float64}\n",
    "    point::Vector{Float64}  \n",
    "    weight::Float64\n",
    "end\n",
    "Base.size(s::GaussPoint3) = size(s.point)\n",
    "#Base.getindex(s::GaussPoint3, i::Int64) = getindex(s.point, i)\n",
    "a = GaussPoint3([1.0, 3.0], 4.0) "
   ]
  },
  {
   "cell_type": "code",
   "execution_count": null,
   "metadata": {},
   "outputs": [],
   "source": [
    "type GaussPoint4 <: AbstractVector{Float64}\n",
    "    point::Vector{Float64}  \n",
    "    weight::Float64\n",
    "end\n",
    "Base.size(s::GaussPoint4) = size(s.point)\n",
    "Base.getindex(s::GaussPoint4, i::Int64) = getindex(s.weight, i)\n",
    "a = GaussPoint4([1.0, 3.0], 4.0) # Error"
   ]
  },
  {
   "cell_type": "code",
   "execution_count": null,
   "metadata": {},
   "outputs": [],
   "source": [
    "a[1]"
   ]
  },
  {
   "cell_type": "code",
   "execution_count": null,
   "metadata": {},
   "outputs": [],
   "source": [
    "type GaussPoint5 <: AbstractVector{Float64}\n",
    "    point::Vector{Float64}  \n",
    "    weight::Float64\n",
    "end\n",
    "Base.size(s::GaussPoint5) = size(s.point)\n",
    "#Base.getindex(s::GaussPoint5, i::Int64) = getindex(s.point, i)\n",
    "a = GaussPoint5([1.0, 3.0], 4.0)"
   ]
  },
  {
   "cell_type": "code",
   "execution_count": null,
   "metadata": {},
   "outputs": [],
   "source": [
    "a[1]"
   ]
  },
  {
   "cell_type": "code",
   "execution_count": null,
   "metadata": {},
   "outputs": [],
   "source": [
    "a[1] = 3 # Error"
   ]
  },
  {
   "cell_type": "code",
   "execution_count": null,
   "metadata": {},
   "outputs": [],
   "source": [
    "type GaussPoint7 <: AbstractVector{Float64}\n",
    "    point::Vector{Float64}  \n",
    "    weight::Float64\n",
    "end\n",
    "Base.size(s::GaussPoint7) = size(s.point)\n",
    "Base.getindex(s::GaussPoint7, i::Int64) = getindex(s.point, i)\n",
    "Base.setindex!(s::GaussPoint7, val::Float64, i::Int64) = setindex!(s.point, val, i)\n",
    "a = GaussPoint7([1.0, 3.0], 4.0)\n",
    "@show a[1]\n",
    "a[1] = 4.0\n",
    "@show a"
   ]
  },
  {
   "cell_type": "markdown",
   "metadata": {},
   "source": [
    "# An easy explanation for getindex, setindex!"
   ]
  },
  {
   "cell_type": "code",
   "execution_count": null,
   "metadata": {},
   "outputs": [],
   "source": [
    "type Student <: AbstractVector{Float64}\n",
    "    grades::Vector{Float64}\n",
    "    ID::String\n",
    "end\n",
    "Base.size(s::Student) = size(s.grades)\n",
    "Base.getindex(s::Student, i::Int64) = getindex(s.grades, i)\n",
    "Base.setindex!(s::Student, val::Float64, i::Int64) = setindex!(s.grades, val, i)"
   ]
  },
  {
   "cell_type": "code",
   "execution_count": null,
   "metadata": {},
   "outputs": [],
   "source": [
    "s = Student([1.0, 8.0, 9.0], \"15wa905\")"
   ]
  },
  {
   "cell_type": "code",
   "execution_count": null,
   "metadata": {},
   "outputs": [],
   "source": [
    "s[1] # here, getindex is used"
   ]
  },
  {
   "cell_type": "code",
   "execution_count": null,
   "metadata": {},
   "outputs": [],
   "source": [
    "s[1] = 5.0 # here, setindex is used"
   ]
  },
  {
   "cell_type": "code",
   "execution_count": null,
   "metadata": {},
   "outputs": [],
   "source": [
    "type Student <: AbstractVector{Float64, 1}\n",
    "    grades::Vector{Float64}\n",
    "    ID::String\n",
    "end\n",
    "Base.size(s::Student) = size(s.grades)\n",
    "Base.getindex(s::Student, i::Int64) = getindex(s.grades, i)\n",
    "Base.setindex!(s::Student, val::Float64, i::Int64) = setindex!(s.grades, val, i)"
   ]
  }
 ],
 "metadata": {
  "kernelspec": {
   "display_name": "Julia 0.5.2",
   "language": "julia",
   "name": "julia-0.5"
  },
  "language_info": {
   "file_extension": ".jl",
   "mimetype": "application/julia",
   "name": "julia",
   "version": "0.5.2"
  }
 },
 "nbformat": 4,
 "nbformat_minor": 1
}
