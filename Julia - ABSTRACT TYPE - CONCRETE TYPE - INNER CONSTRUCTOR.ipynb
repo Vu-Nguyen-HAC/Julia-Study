{
 "cells": [
  {
   "cell_type": "code",
   "execution_count": 1,
   "metadata": {},
   "outputs": [
    {
     "data": {
      "text/html": [
       "<link href='http://fonts.googleapis.com/css?family=Alegreya+Sans:100,300,400,500,700,800,900,100italic,300italic,400italic,500italic,700italic,800italic,900italic' rel='stylesheet' type='text/css'>\n",
       "<link href='http://fonts.googleapis.com/css?family=Arvo:400,700,400italic' rel='stylesheet' type='text/css'>\n",
       "<link href='http://fonts.googleapis.com/css?family=PT+Mono' rel='stylesheet' type='text/css'>\n",
       "<link href='http://fonts.googleapis.com/css?family=Shadows+Into+Light' rel='stylesheet' type='text/css'>\n",
       "<link href='http://fonts.googleapis.com/css?family=Philosopher:400,700,400italic,700italic' rel='stylesheet' type='text/css'>\n",
       "\n",
       "<style>\n",
       "\n",
       "@font-face {\n",
       "    font-family: \"Computer Modern\";\n",
       "    src: url('http://mirrors.ctan.org/fonts/cm-unicode/fonts/otf/cmunss.otf');\n",
       "}\n",
       "\n",
       "#notebook_panel { /* main background */\n",
       "    background: #ddd;\n",
       "    color: #000000;\n",
       "}\n",
       "\n",
       "\n",
       "\n",
       "/* Formatting for header cells */\n",
       ".text_cell_render h1 {\n",
       "    font-family: 'Philosopher', sans-serif;\n",
       "    font-weight: 400;\n",
       "    font-size: 2.2em;\n",
       "    line-height: 100%;\n",
       "    color: rgb(0, 80, 120);\n",
       "    margin-bottom: 0.1em;\n",
       "    margin-top: 0.1em;\n",
       "    display: block;\n",
       "}\t\n",
       ".text_cell_render h2 {\n",
       "    font-family: 'Philosopher', serif;\n",
       "    font-weight: 400;\n",
       "    font-size: 1.9em;\n",
       "    line-height: 100%;\n",
       "    color: rgb(200,100,0);\n",
       "    margin-bottom: 0.1em;\n",
       "    margin-top: 0.1em;\n",
       "    display: block;\n",
       "}\t\n",
       "\n",
       ".text_cell_render h3 {\n",
       "    font-family: 'Philosopher', serif;\n",
       "    margin-top:12px;\n",
       "    margin-bottom: 3px;\n",
       "    font-style: italic;\n",
       "    color: rgb(94,127,192);\n",
       "}\n",
       "\n",
       ".text_cell_render h4 {\n",
       "    font-family: 'Philosopher', serif;\n",
       "}\n",
       "\n",
       ".text_cell_render h5 {\n",
       "    font-family: 'Alegreya Sans', sans-serif;\n",
       "    font-weight: 300;\n",
       "    font-size: 16pt;\n",
       "    color: grey;\n",
       "    font-style: italic;\n",
       "    margin-bottom: .1em;\n",
       "    margin-top: 0.1em;\n",
       "    display: block;\n",
       "}\n",
       "\n",
       ".text_cell_render h6 {\n",
       "    font-family: 'PT Mono', sans-serif;\n",
       "    font-weight: 300;\n",
       "    font-size: 10pt;\n",
       "    color: grey;\n",
       "    margin-bottom: 1px;\n",
       "    margin-top: 1px;\n",
       "}\n",
       "\n",
       ".CodeMirror{\n",
       "        font-family: \"PT Mono\";\n",
       "        font-size: 100%;\n",
       "}\n",
       "\n",
       "</style>\n",
       "\n"
      ],
      "text/plain": [
       "HTML{String}(\"<link href='http://fonts.googleapis.com/css?family=Alegreya+Sans:100,300,400,500,700,800,900,100italic,300italic,400italic,500italic,700italic,800italic,900italic' rel='stylesheet' type='text/css'>\\n<link href='http://fonts.googleapis.com/css?family=Arvo:400,700,400italic' rel='stylesheet' type='text/css'>\\n<link href='http://fonts.googleapis.com/css?family=PT+Mono' rel='stylesheet' type='text/css'>\\n<link href='http://fonts.googleapis.com/css?family=Shadows+Into+Light' rel='stylesheet' type='text/css'>\\n<link href='http://fonts.googleapis.com/css?family=Philosopher:400,700,400italic,700italic' rel='stylesheet' type='text/css'>\\n\\n<style>\\n\\n@font-face {\\n    font-family: \\\"Computer Modern\\\";\\n    src: url('http://mirrors.ctan.org/fonts/cm-unicode/fonts/otf/cmunss.otf');\\n}\\n\\n#notebook_panel { /* main background */\\n    background: #ddd;\\n    color: #000000;\\n}\\n\\n\\n\\n/* Formatting for header cells */\\n.text_cell_render h1 {\\n    font-family: 'Philosopher', sans-serif;\\n    font-weight: 400;\\n    font-size: 2.2em;\\n    line-height: 100%;\\n    color: rgb(0, 80, 120);\\n    margin-bottom: 0.1em;\\n    margin-top: 0.1em;\\n    display: block;\\n}\\t\\n.text_cell_render h2 {\\n    font-family: 'Philosopher', serif;\\n    font-weight: 400;\\n    font-size: 1.9em;\\n    line-height: 100%;\\n    color: rgb(200,100,0);\\n    margin-bottom: 0.1em;\\n    margin-top: 0.1em;\\n    display: block;\\n}\\t\\n\\n.text_cell_render h3 {\\n    font-family: 'Philosopher', serif;\\n    margin-top:12px;\\n    margin-bottom: 3px;\\n    font-style: italic;\\n    color: rgb(94,127,192);\\n}\\n\\n.text_cell_render h4 {\\n    font-family: 'Philosopher', serif;\\n}\\n\\n.text_cell_render h5 {\\n    font-family: 'Alegreya Sans', sans-serif;\\n    font-weight: 300;\\n    font-size: 16pt;\\n    color: grey;\\n    font-style: italic;\\n    margin-bottom: .1em;\\n    margin-top: 0.1em;\\n    display: block;\\n}\\n\\n.text_cell_render h6 {\\n    font-family: 'PT Mono', sans-serif;\\n    font-weight: 300;\\n    font-size: 10pt;\\n    color: grey;\\n    margin-bottom: 1px;\\n    margin-top: 1px;\\n}\\n\\n.CodeMirror{\\n        font-family: \\\"PT Mono\\\";\\n        font-size: 100%;\\n}\\n\\n</style>\\n\\n\")"
      ]
     },
     "execution_count": 1,
     "metadata": {},
     "output_type": "execute_result"
    }
   ],
   "source": [
    "# Setting up a custom stylesheet in IJulia\n",
    "file = open(\"style.css\") # A .css file in the same folder as this notebook file\n",
    "styl = readstring(file) # Read the file\n",
    "HTML(\"$styl\") # Output as HTML"
   ]
  },
  {
   "cell_type": "markdown",
   "metadata": {},
   "source": [
    "# Abstract type "
   ]
  },
  {
   "cell_type": "markdown",
   "metadata": {},
   "source": [
    "<h2>In this lesson</h2>\n",
    "\n",
    "- [Outcome](#Outcome)\n",
    "- Concrete Type \n",
    "- [Comparison with other programming languages](#Comparison-with-other-programming-languages)\n",
    "- [Why Julia is easy to learn](#Why-Julia-is-easy-to-learn)\n",
    "- [Some technical aspects of Julia](#Some-technical-aspects-of-Julia)"
   ]
  },
  {
   "cell_type": "code",
   "execution_count": 2,
   "metadata": {
    "collapsed": true
   },
   "outputs": [],
   "source": [
    "type Contact\n",
    "     name::String\n",
    "     email::String\n",
    "     phone::String\n",
    "end"
   ]
  },
  {
   "cell_type": "code",
   "execution_count": 3,
   "metadata": {},
   "outputs": [
    {
     "data": {
      "text/html": [
       "3 methods for generic function <b>Type</b>:<ul><li> Contact(name::<b>String</b>, email::<b>String</b>, phone::<b>String</b>) at In[2]:2</li> <li> Contact(name, email, phone) at In[2]:2</li> <li> (::<b>Type{T}</b>)<i>{T}</i>(arg) at <a href=\"https://github.com/JuliaLang/julia/tree/3c9d75391c72d7c32eea75ff187ce77b2d5effc8/base/sysimg.jl#L53\" target=\"_blank\">sysimg.jl:53</a></li> </ul>"
      ],
      "text/plain": [
       "# 3 methods for generic function \"(::Type)\":\n",
       "Contact(name::String, email::String, phone::String) at In[2]:2\n",
       "Contact(name, email, phone) at In[2]:2\n",
       "(::Type{T}){T}(arg) at sysimg.jl:53"
      ]
     },
     "execution_count": 3,
     "metadata": {},
     "output_type": "execute_result"
    }
   ],
   "source": [
    "methods(Contact)"
   ]
  },
  {
   "cell_type": "markdown",
   "metadata": {},
   "source": [
    "Create INNER CONSTRUCTOR:"
   ]
  },
  {
   "cell_type": "code",
   "execution_count": 4,
   "metadata": {},
   "outputs": [
    {
     "name": "stderr",
     "output_type": "stream",
     "text": [
      "WARNING: Method definition (::Type{Main.Contact})(String, String, String) in module Main at In[2]:2 overwritten at In[4]:8.\n"
     ]
    }
   ],
   "source": [
    "type Contact\n",
    "     name::String\n",
    "     email::String\n",
    "     phone::String\n",
    "\n",
    "    #Inner Constructor:\n",
    "    function Contact(name::String, email::String, phone::String)\n",
    "         length(name) == 0 && error(\"Need to provide a contact name\")\n",
    "         length(email) == 0 && length(phone) == 0 &&\n",
    "         error(\"Need to provide either an email or a phone number\")\n",
    "     new(name, email, phone)\n",
    "    end\n",
    "end"
   ]
  },
  {
   "cell_type": "code",
   "execution_count": 5,
   "metadata": {},
   "outputs": [
    {
     "data": {
      "text/html": [
       "3 methods for generic function <b>Type</b>:<ul><li> Contact(name::<b>String</b>, email::<b>String</b>, phone::<b>String</b>) at In[4]:8</li> <li> Contact(name, email, phone) at In[2]:2</li> <li> (::<b>Type{T}</b>)<i>{T}</i>(arg) at <a href=\"https://github.com/JuliaLang/julia/tree/3c9d75391c72d7c32eea75ff187ce77b2d5effc8/base/sysimg.jl#L53\" target=\"_blank\">sysimg.jl:53</a></li> </ul>"
      ],
      "text/plain": [
       "# 3 methods for generic function \"(::Type)\":\n",
       "Contact(name::String, email::String, phone::String) at In[4]:8\n",
       "Contact(name, email, phone) at In[2]:2\n",
       "(::Type{T}){T}(arg) at sysimg.jl:53"
      ]
     },
     "execution_count": 5,
     "metadata": {},
     "output_type": "execute_result"
    }
   ],
   "source": [
    "methods(Contact)"
   ]
  },
  {
   "cell_type": "code",
   "execution_count": 6,
   "metadata": {},
   "outputs": [],
   "source": [
    "malcolm = Contact(\"Malcolm\",\"mal@abc.net\",\"+44 7777 555999\");"
   ]
  },
  {
   "cell_type": "code",
   "execution_count": 7,
   "metadata": {},
   "outputs": [
    {
     "ename": "LoadError",
     "evalue": "LoadError: Need to provide either an email or a phone number\nwhile loading In[7], in expression starting on line 1",
     "output_type": "error",
     "traceback": [
      "LoadError: Need to provide either an email or a phone number\nwhile loading In[7], in expression starting on line 1",
      "",
      " in Contact(::String, ::String, ::String) at ./In[4]:9"
     ]
    }
   ],
   "source": [
    "me = Contact(\"malcolm\",\"\",\"\")"
   ]
  },
  {
   "cell_type": "code",
   "execution_count": 8,
   "metadata": {
    "collapsed": true
   },
   "outputs": [],
   "source": [
    "abstract Vehicle\n",
    "abstract Car <: Vehicle\n",
    "abstract Bike <: Vehicle\n",
    "abstract Boat <: Vehicle\n",
    "abstract Powerboat <: Boat"
   ]
  },
  {
   "cell_type": "code",
   "execution_count": 9,
   "metadata": {},
   "outputs": [
    {
     "data": {
      "text/plain": [
       "3-element Array{Any,1}:\n",
       " Bike\n",
       " Boat\n",
       " Car "
      ]
     },
     "execution_count": 9,
     "metadata": {},
     "output_type": "execute_result"
    }
   ],
   "source": [
    "subtypes(Vehicle)"
   ]
  },
  {
   "cell_type": "code",
   "execution_count": 10,
   "metadata": {},
   "outputs": [
    {
     "name": "stderr",
     "output_type": "stream",
     "text": [
      "WARNING: super(T::DataType) is deprecated, use supertype(T) instead.\n",
      " in depwarn(::String, ::Symbol) at ./deprecated.jl:64\n",
      " in super(::DataType) at ./deprecated.jl:50\n",
      " in include_string(::String, ::String) at ./loading.jl:441\n",
      " in execute_request(::ZMQ.Socket, ::IJulia.Msg) at /opt/julia_packages/.julia/v0.5/IJulia/src/execute_request.jl:169\n",
      " in eventloop(::ZMQ.Socket) at /opt/julia_packages/.julia/v0.5/IJulia/src/eventloop.jl:8\n",
      " in (::IJulia.##9#15)() at ./task.jl:360\n",
      "while loading In[10], in expression starting on line 1\n"
     ]
    },
    {
     "data": {
      "text/plain": [
       "Vehicle"
      ]
     },
     "execution_count": 10,
     "metadata": {},
     "output_type": "execute_result"
    }
   ],
   "source": [
    "super(Bike) "
   ]
  },
  {
   "cell_type": "code",
   "execution_count": 11,
   "metadata": {},
   "outputs": [
    {
     "data": {
      "text/plain": [
       "Vehicle"
      ]
     },
     "execution_count": 11,
     "metadata": {},
     "output_type": "execute_result"
    }
   ],
   "source": [
    "super(Car)"
   ]
  },
  {
   "cell_type": "markdown",
   "metadata": {},
   "source": [
    "Create Concrete Type"
   ]
  },
  {
   "cell_type": "code",
   "execution_count": 12,
   "metadata": {},
   "outputs": [],
   "source": [
    "type Ford <: Car\n",
    "     owner    ::Contact\n",
    "     model    ::String\n",
    "     fuel     ::String\n",
    "     color    ::String\n",
    "     engine_cc::Int64\n",
    "     speed_mph::Float64\n",
    "     \n",
    "    function Ford(owner, model, engine_cc,speed_mph)\n",
    "     new(owner,model,\"Petrol\",\"Black\",engine_cc,speed_mph)\n",
    "     end\n",
    "end\n",
    "\n",
    "type BMW <: Car\n",
    "     owner::Contact\n",
    "     model::String\n",
    "     fuel::String\n",
    "     color::String\n",
    "     engine_cc::Int64\n",
    "     speed_mph::Float64\n",
    "     \n",
    "    function BMW(owner,model,engine_cc,speed_mph)\n",
    "     new(owner,model,\"Petrol\",\"Blue\",engine_cc,speed_mph)\n",
    "     end\n",
    "end\n",
    "\n",
    "type VW <: Car\n",
    "     owner::Contact\n",
    "     model::String\n",
    "     fuel::String\n",
    "     color::String\n",
    "     engine_cc::Int64\n",
    "     speed_mph::Float64\n",
    "end\n",
    "\n",
    "type MotorBike <: Bike\n",
    "     owner::Contact\n",
    "     model::String\n",
    "     engine_cc::Int64\n",
    "     speed_mph::Float64\n",
    "end\n",
    "\n",
    "type Scooter <: Bike\n",
    "     owner::Contact\n",
    "     model::String\n",
    "     engine_cc::Int64\n",
    "     speed_mph::Float64\n",
    "end\n",
    "\n",
    "type Yacht <: Boat\n",
    "     owner::Contact\n",
    "     model::String\n",
    "     length_m::Float64\n",
    "end\n",
    "\n",
    "type Speedboat <: Powerboat\n",
    "     owner::Contact\n",
    "     model::String\n",
    "     fuel::String\n",
    "     engine_cc::Int64\n",
    "     speed_knots::Float64\n",
    "     length_m::Float64\n",
    "end"
   ]
  },
  {
   "cell_type": "code",
   "execution_count": 13,
   "metadata": {},
   "outputs": [],
   "source": [
    "malcolm = Contact(\"Malcolm\",\"mal@abc.net\",\"+44 7777 555999\");\n",
    "myCar   = Ford(malcolm, \"Model T\", 1000, 50.0);"
   ]
  },
  {
   "cell_type": "code",
   "execution_count": 14,
   "metadata": {},
   "outputs": [],
   "source": [
    "myBike  = Scooter(malcolm, \"Vespa\", 125, 35.0);"
   ]
  },
  {
   "cell_type": "code",
   "execution_count": 15,
   "metadata": {},
   "outputs": [],
   "source": [
    "james   = Contact(\"James\",\"jim@abc.net\",\"+44 7777666888\");\n",
    "jmCar   = BMW(james,\"Series 500\", 3200, 125.0);\n",
    "jmCar.color = \"Black\";\n",
    "jmBoat  = Yacht(james,\"Oceanis 44\",14.6);\n",
    "jmBike  = MotorBike(james, \"Harley\", 850, 120.0);\n",
    "david   = Contact(\"David\",\"dave@abc.net\",\"+30 7777 222444\");\n",
    "dvCar   = VW(david,\"Golf\", \"diesel\", \"red\", 1800, 85.0);\n",
    "dvBoat  = Speedboat(david,\"Sealine 28\",\"petrol\", 600, 45.0, 8.2);"
   ]
  },
  {
   "cell_type": "markdown",
   "metadata": {},
   "source": [
    "We can also define some functions using some of type parameters. For example, we can find out if VW is quicker than BMW by defining the floowing function"
   ]
  },
  {
   "cell_type": "code",
   "execution_count": 16,
   "metadata": {},
   "outputs": [
    {
     "data": {
      "text/plain": [
       "isquicker (generic function with 1 method)"
      ]
     },
     "execution_count": 16,
     "metadata": {},
     "output_type": "execute_result"
    }
   ],
   "source": [
    "function isquicker(a::VW, b::BMW)\n",
    "    if(a.speed_mph == b.speed_mph)\n",
    "        return nothing\n",
    "    else\n",
    "        return(a.speed_mph > b.speed_mph ? a : b)\n",
    "    end\n",
    "end\n"
   ]
  },
  {
   "cell_type": "markdown",
   "metadata": {},
   "source": [
    "To create a vector, do like this"
   ]
  },
  {
   "cell_type": "code",
   "execution_count": 17,
   "metadata": {},
   "outputs": [
    {
     "data": {
      "text/plain": [
       "3-element Array{Int64,1}:\n",
       " 1\n",
       " 2\n",
       " 3"
      ]
     },
     "execution_count": 17,
     "metadata": {},
     "output_type": "execute_result"
    }
   ],
   "source": [
    "a = [1,2,3]"
   ]
  },
  {
   "cell_type": "code",
   "execution_count": 18,
   "metadata": {},
   "outputs": [
    {
     "name": "stdout",
     "output_type": "stream",
     "text": [
      "a[1] = 1\n"
     ]
    },
    {
     "data": {
      "text/plain": [
       "1"
      ]
     },
     "execution_count": 18,
     "metadata": {},
     "output_type": "execute_result"
    }
   ],
   "source": [
    "@show a[1] #show the first value of \"a\""
   ]
  },
  {
   "cell_type": "code",
   "execution_count": null,
   "metadata": {
    "collapsed": true
   },
   "outputs": [],
   "source": []
  }
 ],
 "metadata": {
  "kernelspec": {
   "display_name": "Julia 0.5.2",
   "language": "julia",
   "name": "julia-0.5"
  },
  "language_info": {
   "file_extension": ".jl",
   "mimetype": "application/julia",
   "name": "julia",
   "version": "0.5.2"
  }
 },
 "nbformat": 4,
 "nbformat_minor": 1
}
