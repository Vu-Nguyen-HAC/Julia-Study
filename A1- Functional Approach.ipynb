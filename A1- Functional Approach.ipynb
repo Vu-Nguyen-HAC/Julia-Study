{
 "cells": [
  {
   "cell_type": "code",
   "execution_count": null,
   "metadata": {
    "collapsed": true
   },
   "outputs": [],
   "source": [
    "\n",
    "abstract Car\n",
    "\n",
    "type Ford <: Car\n",
    "    owner::String \n",
    "end    \n",
    "\n",
    "\n",
    "type Tesla <: Car\n",
    "    owner::String\n",
    "end \n",
    "\n",
    "# Store all our car factories\n",
    "factory = Dict(\"ford\" => Ford, \"tesla\" => Tesla)\n",
    "\n",
    "function read_car_brand_and_oner_from_file()\n",
    "    (\"ford\", \"Mark\") \n",
    "end     \n",
    "\n",
    "# Get a factor\n",
    "brand, owner = read_car_brand_and_oner_from_file()\n",
    "f = factory[brand]\n",
    "\n",
    "# Create a product with factory\n",
    "car = f(owner)\n",
    "\n",
    "typeof(car)\n",
    "\n",
    "f = factory[\"tesla\"]\n",
    "car = f(\"Elon\")\n",
    "typeof(car)\n",
    "\n"
   ]
  },
  {
   "cell_type": "code",
   "execution_count": null,
   "metadata": {
    "collapsed": true
   },
   "outputs": [],
   "source": []
  },
  {
   "cell_type": "code",
   "execution_count": null,
   "metadata": {
    "collapsed": true
   },
   "outputs": [],
   "source": []
  },
  {
   "cell_type": "code",
   "execution_count": null,
   "metadata": {
    "collapsed": true
   },
   "outputs": [],
   "source": []
  }
 ],
 "metadata": {
  "kernelspec": {
   "display_name": "Julia 0.5.2",
   "language": "julia",
   "name": "julia-0.5"
  }
 },
 "nbformat": 4,
 "nbformat_minor": 1
}
