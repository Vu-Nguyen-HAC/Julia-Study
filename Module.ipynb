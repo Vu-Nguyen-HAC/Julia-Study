{
 "cells": [
  {
   "cell_type": "markdown",
   "metadata": {},
   "source": [
    "# First step: Create the name of the julia file with the same name as the Module's name.\n"
   ]
  },
  {
   "cell_type": "markdown",
   "metadata": {},
   "source": [
    "For instance, create a \"Volume.jl\" file in the current directory"
   ]
  },
  {
   "cell_type": "code",
   "execution_count": null,
   "metadata": {
    "collapsed": true
   },
   "outputs": [],
   "source": [
    "module Volume\n",
    "    export sphere_volume, circle_area\n",
    "    \"Volume of sphere with radius 'r'\"\n",
    "    sphere_volume(r) = (4/3) * π * r^3\n",
    "\n",
    "    \"Area of a triangle\"\n",
    "    triangle_area(b, h) = b * h / 2\n",
    "\n",
    "    \"Area of circle with radius 'r'\"\n",
    "    circle_area(r) = π * r^2\n",
    "end \n"
   ]
  },
  {
   "cell_type": "markdown",
   "metadata": {},
   "source": [
    "Add the current Module to the julia file by:\n",
    "push!(LOAD_PATH, \".\")"
   ]
  },
  {
   "cell_type": "markdown",
   "metadata": {},
   "source": [
    "Then, : using Volume"
   ]
  }
 ],
 "metadata": {
  "kernelspec": {
   "display_name": "Julia 0.5.1",
   "language": "julia",
   "name": "julia-0.5"
  }
 },
 "nbformat": 4,
 "nbformat_minor": 1
}
