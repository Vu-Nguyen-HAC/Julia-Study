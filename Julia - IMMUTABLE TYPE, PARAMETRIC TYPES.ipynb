{
 "cells": [
  {
   "cell_type": "markdown",
   "metadata": {},
   "source": [
    "# IMMUTABLE TYPE, PARAMETRIC TYPES:"
   ]
  },
  {
   "cell_type": "code",
   "execution_count": 1,
   "metadata": {
    "collapsed": false
   },
   "outputs": [],
   "source": [
    "immutable  OrdPair{T <: Number}\n",
    "    x::T;\n",
    "    y::T;\n",
    "end"
   ]
  },
  {
   "cell_type": "code",
   "execution_count": 2,
   "metadata": {
    "collapsed": false
   },
   "outputs": [
    {
     "data": {
      "text/plain": [
       "OrdPair{Int64}(1,2)"
      ]
     },
     "execution_count": 2,
     "metadata": {},
     "output_type": "execute_result"
    }
   ],
   "source": [
    "a = OrdPair(1,2)"
   ]
  },
  {
   "cell_type": "code",
   "execution_count": 3,
   "metadata": {
    "collapsed": false
   },
   "outputs": [
    {
     "data": {
      "text/plain": [
       "OrdPair{Float64}(1.0,2.0)"
      ]
     },
     "execution_count": 3,
     "metadata": {},
     "output_type": "execute_result"
    }
   ],
   "source": [
    "b = OrdPair(1.0,2.0)"
   ]
  },
  {
   "cell_type": "code",
   "execution_count": 4,
   "metadata": {
    "collapsed": false
   },
   "outputs": [
    {
     "data": {
      "text/plain": [
       "OrdPair{Float64}(0.6666666666666666,1.7320508075688772)"
      ]
     },
     "execution_count": 4,
     "metadata": {},
     "output_type": "execute_result"
    }
   ],
   "source": [
    "c = OrdPair(2/3,sqrt(3))"
   ]
  },
  {
   "cell_type": "code",
   "execution_count": 5,
   "metadata": {
    "collapsed": false
   },
   "outputs": [
    {
     "data": {
      "text/plain": [
       "OrdPair{Complex{Int64}}(-1 + 1im,-3 + 3im)"
      ]
     },
     "execution_count": 5,
     "metadata": {},
     "output_type": "execute_result"
    }
   ],
   "source": [
    "d = OrdPair(-1+im,-3+3im)"
   ]
  },
  {
   "cell_type": "code",
   "execution_count": 6,
   "metadata": {
    "collapsed": false
   },
   "outputs": [
    {
     "data": {
      "text/plain": [
       "-1 + 1im"
      ]
     },
     "execution_count": 6,
     "metadata": {},
     "output_type": "execute_result"
    }
   ],
   "source": [
    "d.x"
   ]
  },
  {
   "cell_type": "code",
   "execution_count": 7,
   "metadata": {
    "collapsed": false
   },
   "outputs": [
    {
     "ename": "LoadError",
     "evalue": "LoadError: type OrdPair is immutable\nwhile loading In[7], in expression starting on line 1",
     "output_type": "error",
     "traceback": [
      "LoadError: type OrdPair is immutable\nwhile loading In[7], in expression starting on line 1",
      ""
     ]
    }
   ],
   "source": [
    "d.x = 3 #Because of \"immutable\" characteristic, we cannot modified the attributes of immutable instances"
   ]
  },
  {
   "cell_type": "code",
   "execution_count": 8,
   "metadata": {
    "collapsed": false
   },
   "outputs": [
    {
     "name": "stdout",
     "output_type": "stream",
     "text": [
      "b.x = 1\n",
      "b.x = 10\n"
     ]
    },
    {
     "data": {
      "text/plain": [
       "10"
      ]
     },
     "execution_count": 8,
     "metadata": {},
     "output_type": "execute_result"
    }
   ],
   "source": [
    "type OrdPair_mutable{T <: Integer}\n",
    "    x::T;\n",
    "    y::T;\n",
    "end\n",
    "\n",
    "b = OrdPair_mutable(1,2)\n",
    "@show b.x\n",
    "b.x = 10\n",
    "@show b.x"
   ]
  },
  {
   "cell_type": "code",
   "execution_count": 9,
   "metadata": {
    "collapsed": false
   },
   "outputs": [
    {
     "name": "stdout",
     "output_type": "stream",
     "text": [
      "a = OrdPair{Int64}(1,2)\n",
      "b = OrdPair{Int64}(3,4)\n"
     ]
    },
    {
     "ename": "LoadError",
     "evalue": "LoadError: MethodError: no method matching +(::OrdPair{Int64}, ::OrdPair{Int64})\nClosest candidates are:\n  +(::Any, ::Any, !Matched::Any, !Matched::Any...) at operators.jl:138\nwhile loading In[9], in expression starting on line 218",
     "output_type": "error",
     "traceback": [
      "LoadError: MethodError: no method matching +(::OrdPair{Int64}, ::OrdPair{Int64})\nClosest candidates are:\n  +(::Any, ::Any, !Matched::Any, !Matched::Any...) at operators.jl:138\nwhile loading In[9], in expression starting on line 218",
      ""
     ]
    }
   ],
   "source": [
    "a = OrdPair(1,2)\n",
    "b = OrdPair(3,4)\n",
    "@show a\n",
    "@show b\n",
    "@show a + b #not possible because the built-in function \"+\" does not understand the sum of two \"OrdPair\" variables"
   ]
  },
  {
   "cell_type": "markdown",
   "metadata": {},
   "source": [
    "Therefore, we can overwrite the Built-in function in Julia like this:"
   ]
  },
  {
   "cell_type": "code",
   "execution_count": 10,
   "metadata": {
    "collapsed": false
   },
   "outputs": [],
   "source": [
    "function Base.:+(p::OrdPair, q::OrdPair) \n",
    "    return OrdPair(p.x + q.x, p.y + q.y)\n",
    "end"
   ]
  },
  {
   "cell_type": "code",
   "execution_count": 11,
   "metadata": {
    "collapsed": false
   },
   "outputs": [
    {
     "data": {
      "text/plain": [
       "OrdPair{Int64}(4,6)"
      ]
     },
     "execution_count": 11,
     "metadata": {},
     "output_type": "execute_result"
    }
   ],
   "source": [
    "a + b"
   ]
  },
  {
   "cell_type": "markdown",
   "metadata": {},
   "source": [
    "Similarly, we can define the other functions:"
   ]
  },
  {
   "cell_type": "code",
   "execution_count": null,
   "metadata": {
    "collapsed": false
   },
   "outputs": [],
   "source": []
  },
  {
   "cell_type": "code",
   "execution_count": 12,
   "metadata": {
    "collapsed": false
   },
   "outputs": [],
   "source": [
    "function Base.:-(p::OrdPair, q::OrdPair) \n",
    "    return OrdPair(p.x - q.x, p.y - q.y)\n",
    "end\n"
   ]
  },
  {
   "cell_type": "code",
   "execution_count": 13,
   "metadata": {
    "collapsed": false
   },
   "outputs": [
    {
     "name": "stdout",
     "output_type": "stream",
     "text": [
      "a = OrdPair{Int64}(1,2)\n",
      "b = OrdPair{Int64}(3,4)\n",
      "a - b = OrdPair{Int64}(-2,-2)\n"
     ]
    },
    {
     "data": {
      "text/plain": [
       "OrdPair{Int64}(-2,-2)"
      ]
     },
     "execution_count": 13,
     "metadata": {},
     "output_type": "execute_result"
    }
   ],
   "source": [
    "@show a\n",
    "@show b\n",
    "@show a-b"
   ]
  },
  {
   "cell_type": "code",
   "execution_count": 14,
   "metadata": {
    "collapsed": false
   },
   "outputs": [
    {
     "data": {
      "text/plain": [
       "OrdPair{Int64}(3,8)"
      ]
     },
     "execution_count": 14,
     "metadata": {},
     "output_type": "execute_result"
    }
   ],
   "source": [
    "function Base.:*(p::OrdPair, q::OrdPair) \n",
    "    return OrdPair(p.x * q.x, p.y * q.y)\n",
    "end\n",
    "\n",
    "a * b"
   ]
  },
  {
   "cell_type": "code",
   "execution_count": 15,
   "metadata": {
    "collapsed": false
   },
   "outputs": [
    {
     "data": {
      "text/plain": [
       "OrdPair{Float64}(0.3333333333333333,0.5)"
      ]
     },
     "execution_count": 15,
     "metadata": {},
     "output_type": "execute_result"
    }
   ],
   "source": [
    "function Base.:/(p::OrdPair, q::OrdPair) \n",
    "    return OrdPair(p.x / q.x, p.y / q.y)\n",
    "end\n",
    "\n",
    "a/b"
   ]
  },
  {
   "cell_type": "code",
   "execution_count": 16,
   "metadata": {
    "collapsed": false
   },
   "outputs": [
    {
     "data": {
      "text/plain": [
       "Subtract (generic function with 1 method)"
      ]
     },
     "execution_count": 16,
     "metadata": {},
     "output_type": "execute_result"
    }
   ],
   "source": [
    "function Subtract(p::OrdPair, q::OrdPair) \n",
    "    x = p.x - q.x\n",
    "    y = p.y - q.y\n",
    "    return OrdPair(x,y)\n",
    "end\n"
   ]
  },
  {
   "cell_type": "code",
   "execution_count": 17,
   "metadata": {
    "collapsed": false
   },
   "outputs": [
    {
     "name": "stdout",
     "output_type": "stream",
     "text": [
      "a = OrdPair{Int64}(1,2)\n",
      "b = OrdPair{Int64}(3,4)\n",
      "a.x = 1\n",
      "b.x = 3\n",
      "a.y = 2\n",
      "b.y = 4\n",
      "a.x + b.x = 4\n",
      "typeof(a.x) = Int64\n",
      "typeof(b.x) = Int64\n",
      "a.x - b.x = -2\n"
     ]
    },
    {
     "data": {
      "text/plain": [
       "OrdPair{Int64}(-2,-2)"
      ]
     },
     "execution_count": 17,
     "metadata": {},
     "output_type": "execute_result"
    }
   ],
   "source": [
    "@show a b\n",
    "@show a.x b.x a.y b.y\n",
    "@show a.x + b.x\n",
    "@show typeof(a.x) typeof(b.x)\n",
    "@show a.x - b.x\n",
    "Subtract(a,b)"
   ]
  },
  {
   "cell_type": "code",
   "execution_count": 18,
   "metadata": {
    "collapsed": false
   },
   "outputs": [
    {
     "data": {
      "text/plain": [
       "5"
      ]
     },
     "execution_count": 18,
     "metadata": {},
     "output_type": "execute_result"
    }
   ],
   "source": [
    "function abs2(p::OrdPair)  # ERROR\n",
    "    return p.x * p.x + p.y * p.y\n",
    "end\n",
    "\n",
    "abs2(a)"
   ]
  },
  {
   "cell_type": "code",
   "execution_count": 19,
   "metadata": {
    "collapsed": false
   },
   "outputs": [
    {
     "data": {
      "text/plain": [
       "5"
      ]
     },
     "execution_count": 19,
     "metadata": {},
     "output_type": "execute_result"
    }
   ],
   "source": [
    "function Base.:abs2(p::OrdPair)  # ERROR\n",
    "    return p.x * p.x + p.y * p.y\n",
    "end\n",
    "\n",
    "abs2(a)"
   ]
  },
  {
   "cell_type": "code",
   "execution_count": 20,
   "metadata": {
    "collapsed": false
   },
   "outputs": [
    {
     "data": {
      "text/plain": [
       "2.23606797749979"
      ]
     },
     "execution_count": 20,
     "metadata": {},
     "output_type": "execute_result"
    }
   ],
   "source": [
    "# Base.:abs(p::OrdPair) = sqrt(abs2(p))\n",
    "# Or\n",
    "function Base.:abs(p::OrdPair)\n",
    "    return sqrt(abs2(p))\n",
    "end\n",
    "\n",
    "abs(a)"
   ]
  },
  {
   "cell_type": "code",
   "execution_count": 24,
   "metadata": {
    "collapsed": false
   },
   "outputs": [
    {
     "ename": "LoadError",
     "evalue": "LoadError: syntax: invalid identifier name \":=\"\nwhile loading In[24], in expression starting on line 1",
     "output_type": "error",
     "traceback": [
      "LoadError: syntax: invalid identifier name \":=\"\nwhile loading In[24], in expression starting on line 1",
      ""
     ]
    }
   ],
   "source": [
    "function Base.:==(p::OrdPair, q::OrdPair) \n",
    "    (p.x == q.x) && (p.y == q.y)\n",
    "end "
   ]
  },
  {
   "cell_type": "code",
   "execution_count": 22,
   "metadata": {
    "collapsed": false
   },
   "outputs": [
    {
     "data": {
      "text/plain": [
       "false"
      ]
     },
     "execution_count": 22,
     "metadata": {},
     "output_type": "execute_result"
    }
   ],
   "source": [
    "==(a,b)"
   ]
  },
  {
   "cell_type": "code",
   "execution_count": 23,
   "metadata": {
    "collapsed": false
   },
   "outputs": [
    {
     "data": {
      "text/plain": [
       "2-element Array{Int64,1}:\n",
       " 3\n",
       " 6"
      ]
     },
     "execution_count": 23,
     "metadata": {},
     "output_type": "execute_result"
    }
   ],
   "source": [
    "A = [1,2]\n",
    "scale!(A,3)"
   ]
  },
  {
   "cell_type": "code",
   "execution_count": null,
   "metadata": {
    "collapsed": true
   },
   "outputs": [],
   "source": []
  }
 ],
 "metadata": {
  "kernelspec": {
   "display_name": "Julia 0.5.0",
   "language": "julia",
   "name": "julia-0.5"
  },
  "language_info": {
   "file_extension": ".jl",
   "mimetype": "application/julia",
   "name": "julia",
   "version": "0.5.0"
  }
 },
 "nbformat": 4,
 "nbformat_minor": 1
}
