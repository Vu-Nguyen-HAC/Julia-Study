{
 "cells": [
  {
   "cell_type": "code",
   "execution_count": null,
   "metadata": {
    "collapsed": true
   },
   "outputs": [],
   "source": [
    "open(\"elements.txt\") do stream\n",
    "           for line in eachline(stream)\n",
    "               print(line)\n",
    "           end\n",
    "       end"
   ]
  },
  {
   "cell_type": "code",
   "execution_count": null,
   "metadata": {
    "collapsed": true
   },
   "outputs": [],
   "source": [
    "function f()\n",
    "     for line in eachline(stream)\n",
    "               print(line)\n",
    "           end\n",
    "end \n",
    "\n",
    "open(f, \"elements.txt)"
   ]
  }
 ],
 "metadata": {
  "kernelspec": {
   "display_name": "Julia 0.5.2",
   "language": "julia",
   "name": "julia-0.5"
  }
 },
 "nbformat": 4,
 "nbformat_minor": 1
}
